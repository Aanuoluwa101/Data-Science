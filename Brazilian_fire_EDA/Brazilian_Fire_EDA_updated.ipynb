# %% [markdown]
# ## PART 1
#  * Importing libraries and loading dataset
#  * Examining the dataset to understand its organization 
#  * Checking for missing data and duplicates
#  * Fixing any incosistency in the dataset

# %% [markdown]
#  <font size="5">Importing libraries</font>

# %%
#import necessary modules
import shapely
import warnings
from shapely.errors import ShapelyDeprecationWarning
warnings.filterwarnings("ignore", category=ShapelyDeprecationWarning) 


import pandas as pd
import numpy as np
from matplotlib import pyplot as plt
import seaborn as sns
from shapely.geometry import Point
import geopandas as gpd

%matplotlib inline

# %% [markdown]
# <font size="5">Loading dataset</font>
# > The data set is provided as a csv file __[here](https://github.com/Aanuoluwa101/Data-Science/blob/main/Brazilian_fire_EDA/Brazilian-fire-dataset.csv)__ in this repo

# %%
#load dataset
data = pd.read_csv('Brazilian-fire-dataset.csv')

# %% [markdown]
# <font size="5">Examining the data</font>

# %%
data.head()

# %%
data.tail()

# %%
data.Year.unique()

# %%
data.State.unique()

# %%
data.Month.unique()

# %%
data

# %% [markdown]
# * The dataset is organized such that the Number of fires is recorded for each month from 1998 to 2017, and this is done for each state. For example, fires in Acre occuring in January from 1998 to 2017, then fires in Acre occuring in Feburary from 1998 to 2017 etc.
# 
# 

# %% [markdown]
# <font size="5">Checking for missing data,duplicates and the consistency of the data</font>

# %%
#checking for duplicates

sum(data.duplicated())

# %%
data[data.duplicated()]

# %%
data.iloc[258:260,:]

# %%
#remove the duplicates making sure to keep the first entry

data = data.drop_duplicates(keep = "first")

# %%
sum(data.duplicated())

# %%
#Checking for missing data
data.isna().any()

#no missing data

# %%
print("Number of states: ", len(data.State.unique()))
print("Number of years: ", len(data.Year.unique()))
print("Number of months: ", len(data.Month.unique()))


# %%
print("Expected number of data points: ", 27 * 20 * 12)
print("Number of data points: ", len(data))

# %% [markdown]
# * We have less data points than we expected, given the structure of the dataset. <br> 
# 
# Let us find out why this is so

# %%
#grouping the Number of fires by year
year_grouped = data['Number of Fires'].groupby(data['Year'])  

# %%
#making a dictionary from the grouped data. Format(key:value) Year : Number of fires recorded
year_fire = {}
for year, fires in year_grouped:
    year_fire[year] = fires

print(year_fire[1998])
print(year_fire[2016])
print(year_fire[2017])

# %% [markdown]
# * All the years have 324 data points each, except 2017 with 298 data points. <br>
# 
# Let us probe further into the 2017 data.

# %%
#Extracting 2017 data
data_17 = data[data['Year'] == 2017]  
data_17 = data_17['Month'].groupby(data_17['State'])

# %%
states_2017 = {}
for state, month in data_17:
    states_2017[state] = month

print(states_2017['Acre'])
print(states_2017['Tocantins'])

# %%
states_17_dict = {state: len(states_2017[state]) for state in states_2017.keys()}
pd.Series(states_17_dict)

# %% [markdown]
# * In 2017, all the states lacked data for December. <br>
# 
# We could exclude all Decembers or 2017 from the analysis, but we'll go for the former as we would still like to examine the trends in December. <br>

# %%
data = data[data.Year != 2017] 

# %%
len(data) == 19 * 27 * 12   #using 19 years

# %% [markdown]
# ## PART 2 : Plotting and visualization
# * Bar plots
# * cluster maps
# * choropleth maps
# 
# 
# 
# 
# <font size="5">Barplots</font>

# %%
#grouping Number of fires by year
year_grouped = data['Number of Fires'].groupby(data['Year'])  

#converting the year_grouped grouby object into a series by aggregation
year_grouped = year_grouped.sum()

# %%
#Barplot showing the total number fires from 1998 to 2016
fig, ax = plt.subplots(figsize = (15, 8))

sns.set(style = 'whitegrid', color_codes = True)
palette = sns.color_palette("Reds_r", len(year_grouped))
rank = year_grouped.argsort().argsort()
sns.barplot(x = year_grouped.index, y = year_grouped.values, palette = np.array(palette[::-1])[rank])
ax.set(ylabel = "Total Number of Fires")
plt.title("Total Number of Fires in Brazil from 1998 to 2016")
plt.show()

# %% [markdown]
# * The number of fires generally increased over the years. There have been more fires in recent years. This is probably due to climate change and other detrimental effects of increased human activities in the natural environment.
# 
# * There was also an oddly large number fires from 2002 to 2004, especially in 2003. This can be further investigated. 
# 
# The trend can be better seen in the line plot below

# %%
fig, ax = plt.subplots(figsize = (10, 5))

sns.lineplot(x = year_grouped.index, y = year_grouped)

# %%
month_grouped = data['Number of Fires'].groupby(data['Month'])

month_grouped = month_grouped.sum().reindex(['January', 'February', 'March', 'April', 
                                             'May', 'June', 'July', 'August', 'September',
                                              'October', 'November', 'December'])

# %%
fig, ax = plt.subplots(figsize = (15, 8))

sns.set(style = 'whitegrid', color_codes = True)
palette = sns.color_palette("Greens_r", len(month_grouped))
rank = month_grouped.argsort().argsort()
sns.barplot(x = month_grouped.index, y = month_grouped, palette = np.array(palette[::-1])[rank])
ax.set(ylabel = "Total Number of Fires")
plt.title("Total Number of Fires in Brazil by Months, from 1998 to 2016")
plt.show()

# %% [markdown]
# * Fires are on the high side in the second half of the year. This is most likely because these months fall in the dry season.

# %%
state_grouped = data['Number of Fires'].groupby(data.State)
state_grouped = pd.Series(state_grouped.sum()).sort_values()

# %%
fig, ax = plt.subplots(figsize = (15, 8))

sns.set(style = 'whitegrid', color_codes = True)
palette = sns.color_palette("Blues_r", len(state_grouped))
rank = state_grouped.argsort().argsort()
sns.barplot(x = state_grouped.index, y = state_grouped, palette = np.array(palette[::-1])[rank])
ax.set(ylabel = "Total Number of Fires")
plt.xticks(rotation = 60)
plt.title("Total Number of Fires in Brazil by States, from 1998 to 2016")
plt.show()

# %% [markdown]
# * Obviously we see that the number of fire occurrences varies accross the states. This is probably due to differences in weather condition across states and regions, and perhaps differences in the level of human impact on the environment
# * Also, there seems to several groups of states having similar number of fires. We would later see this better when we cluster.
# 
# 
# <font size="5">Cluster map</font>

# %%
#creating a dataframe of the total number of fires across months and states
state_month = data['Number of Fires'].groupby([data['Month'], data['State']]).sum()
state_month = state_month.unstack().reindex(month_grouped.index)
state_month.head()

# %%
sns.clustermap(data = state_month, cmap = 'coolwarm')

# %% [markdown]
# * Roraima (3rd in the cluster) and the next 8 states after it generally have a relatively low number of fires throughout the year
# * States with more fire occurrences have those in the second half of the year as earlier observed. Mato Grosso however tends to deviate from this trend; having more fire occurences early in the year.

# %% [markdown]
# <font size="5">Choropleth map</font>

# %% [markdown]
# The shapefiles used in drawing the chloropleth map can be found __[here on kaggle](https://www.kaggle.com/datasets/rodsaldanha/brazilianstatesshapefiles)__ <br>
# 
# **NOTE**: All other files associated with the .shp file should in thesame directory as the .shp file, prefarably thesame directory from which you are running the notebook. 

# %%
states_geo = gpd.read_file("BRA_adm1.shp")

# %%
states_geo.shape

# %%
states_geo.head()

# %% [markdown]
#  In order to add "Number of fires" to our geopandas dataframe, we will merge **states_geo** and **state_grouped**.
#  Remember state_grouped is a series containing the total number of fires indexed by states <br>
#  We will merge based on the **NAME_1** column in states_geo and the **index** of state_grouped

# %%
state_grouped.head()

# %% [markdown]
# Before merging, let us make sure the names of the states in states_geo and state_grouped are exactly thesame, in order to avoid loss of data

# %%
set(states_geo.NAME_1) == set(state_grouped.index)

# %%
#Rio de Janeiro seems to be differently spelt in the two columns

set(states_geo.NAME_1) - set(state_grouped.index)

# %%
states_geo.NAME_1.values

# %%
state_grouped.index

# %%
#Rio de Janeiro is spelt "Rio de January" in state_grouped

#make a dataframe from state_grouped and make its index a column of that df
state_grouped = state_grouped.to_frame().reset_index() 

#replace with the correct spelling
state_grouped["State"] = state_grouped["State"].replace("Rio de January", "Rio de Janeiro")

# %%
set(states_geo.NAME_1) == set(state_grouped.State)

# %%
#now we can merge

states_geo = pd.merge(states_geo, state_grouped, left_on = "NAME_1", right_on = "State")

# %%
states_geo.drop("State", axis = 1, inplace = True)

# %%
#Number of fires has been added to the geopandas dataframe

states_geo.columns

# %%
# We find the center points, copy our original df to a new df, and then set 
# the geometry column to the newly created center points column 
# we do this because a GeoPandas df can only have one geometry column


states_geo['center'] = states_geo["geometry"].centroid
states_geo_points = states_geo.copy()
states_geo_points.set_geometry("center", inplace = True)

# %%
plt.rcParams.update({"font.size": 5})

fig, ax = plt.subplots(figsize=(4, 4), dpi=200)

states_geo.plot(column="Number of Fires", cmap="coolwarm", legend=True,
    legend_kwds={"label": "Number of Fires", "orientation": "vertical", "shrink": 0.6,},
    ax=ax)

ax.set_title("Total Number of Fires in Brazil states from 1998 to 2016")
ax.axis('off')

#using the x, y cordinates of the center points we had calculated, we label the states
for x, y, label in zip(states_geo_points.geometry.x, states_geo_points.geometry.y, states_geo_points["NAME_1"]):
    plt.text(x, y, label, fontsize = 4)

# %% [markdown]
# The choropleth map above lends more clarity to the patterns we previously observed in the cluster map. 
# >* From this map, we see that the states with more fire occurrences cluster together around the mid region of the country. This suggests that geographical location tends to be an important factor in play here. Further digging will most likely reveal interesting features that states in this region have in common which predisposes them to wildfires, and probably how these features are depressed or absent in the states outside this region. These features may be meterological and even socioeconomical.

# %% [markdown]
# ### PART 3:  AN INTEREST IN FIRE OCCURRENCES IN THE MOST RECENT YEAR, 2017 THAT IS.

# %%
#we do these again because both data and data_17 have changed
#in the course of our initial analysis

data = pd.read_csv('Brazilian-fire-dataset.csv')
data = data.drop_duplicates(keep = "first")
data_17 = data[data['Year'] == 2017]

# %%
data_17.shape

# %%
#just making sure. notice that we used 11 months and 27 states
#remember 2017 lacked data for December, hence 11 months

27 * 11

# %%
#group fires in 2017 by months

months_17 = data_17['Number of Fires'].groupby(data_17['Month'])

months_17 = months_17.sum().reindex(['January', 'February', 'March', 'April', 
                                             'May', 'June', 'July', 'August', 'September',
                                              'October', 'November', 'December'])

# %%
#Recall that we removed 2017 from the initial analysis
#because data on December was missing in all the states

#Since we'll be observing the total number of fires,
#we can estimate this value for 2017 and fill it in

months_17

# %%
#extract data on all Decembers from 1998 to 2016
dec = data[data["Month"] == "December"]

#group the number of fires by year and take the sum
dec = dec["Number of Fires"].groupby(dec["Year"]).sum()

dec.head()

# %%
#We fill in the mean total number of fires in December from 1998 to 2016.
#We do this in order to be conservative, since we don't have too much information


months_17['December'] = np.mean(dec)

# %%
months_17['December']

# %%
fig, ax = plt.subplots(figsize = (15, 8))

sns.set(style = 'whitegrid', color_codes = True)
palette = sns.color_palette("Greens_r", len(months_17))
rank = months_17.argsort().argsort()

sns.barplot(x = months_17.index, y = months_17, palette = np.array(palette[::-1])[rank])

ax.set(ylabel = "Total Number of Fires")
plt.title("Total Number of Fires in Brazil by Months, in 2017")
plt.show()

# %% [markdown]
# * The trend is very similar to what was observed when in the sum from 1998 to 2016; there were more fire occurences in the second half of the year
# 

# %%
states_17 = data_17['Number of Fires'].groupby(data_17["State"])
states_17 = pd.Series(states_17.sum()).sort_values()

# %%
fig, ax = plt.subplots(figsize = (15, 8))

sns.set(style = 'whitegrid', color_codes = True)
palette = sns.color_palette("Blues_r", len(states_17))
rank = states_17.argsort().argsort()

sns.barplot(x = states_17.index, y = states_17, palette = np.array(palette[::-1])[rank])

ax.set(ylabel = "Total Number of Fires")
plt.xticks(rotation = 60)
plt.title("Total Number of Fires in Brazil by States, in 2017")
plt.show()

# %% [markdown]
# * Comparing with the barplot for states earlier, we see that there is a difference in the total number of fires for almost all the states. For example, Mato Grosso as the state with the highest number of fires in 2017, had the 3rd highest number of fires from 1998 to 2017. 
# * However, looking closely, the differences are not too much. States with lower number of fires over the past 19 years still have relatively lower number of fires in 2017. We shall verify this when we draw a choropleth map for 2017.

# %%
#CHOROPLETH MAP

#make a dataframe from states_17 and make its index a column of that df
states_17 = states_17.to_frame().reset_index() 

#replace with the correct spelling as we did earlier,
#to make for accurate merging witht the geopandas df
states_17["State"] = states_17["State"].replace("Rio de January", "Rio de Janeiro")

# %%
set(states_geo.NAME_1) == set(states_17.State)

# %%
#drop the former number of fires (1998 to 2016)
states_geo.drop("Number of Fires", axis = 1, inplace = True) 


# %%
#add the total number of fires by state in 2017
states_geo = pd.merge(states_geo, states_17, left_on = "NAME_1", right_on = "State")

states_geo.drop("State", axis = 1, inplace = True)


# %%
states_geo.head()

# %%
#NOTE that the center points and every other thing remains thesame.
#only that the 2017 total number of fires is now used

plt.rcParams.update({"font.size": 5})

fig, ax = plt.subplots(figsize=(4, 4), dpi=200)

states_geo.plot(column="Number of Fires", cmap="coolwarm", legend=True,
    legend_kwds={"label": "Number of Fires", "orientation": "vertical", "shrink": 0.6,},
    ax=ax)

ax.set_title("Total Number of Fires in Brazil states from 1998 to 2016")
ax.axis('off')

#using the x, y cordinates of the center points we had calculated, we label the states
for x, y, label in zip(states_geo_points.geometry.x, states_geo_points.geometry.y, states_geo_points["NAME_1"]):
    plt.text(x, y, label, fontsize = 4)

# %%


# %% [markdown]
# * The pattern on the map above is similar - with few differences - to that on the first choropleth map. It is just sublte and may be somewhat difficult to see. This is because we have the total number of fires in one year as compared to total number of fires from 19 years, and this affects the shades of the color on the map. 
# >* For example, states in the mid region which had light shades of red now have light blue (Tocantins, Bahia, Minas Gerais etc), and correspondingly, other states that had light blue now have deep blue (Amazonas, Rondonia, Acre etc)
# * The few diferences observed include states like Santa Catarina and Rio Grande do Sul which were low in the number of fires in the the former map but high in the one above
# * Also note there is a wide margin between the number of fires in Mato Grosso and every other state, as seen in its deep red coloration. Though Mato Grosso experiences a lot of fires, as seen in the first choropleth map, its extremely high number of fires - compared with other states - in 2017 warrants further investigation 

# %%
#to buttress the last point, Mato Grosso had over 1000 fires more than the state that was second place to it.
states_17

# %%



