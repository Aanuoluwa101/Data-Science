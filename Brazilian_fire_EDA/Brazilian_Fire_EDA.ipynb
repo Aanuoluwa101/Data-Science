{
 "cells": [
  {
   "cell_type": "markdown",
   "id": "df08889b",
   "metadata": {},
   "source": [
    "## PART 1\n",
    " * Importing libraries and loading dataset\n",
    " * Examining the dataset to understand its organization \n",
    " * Checking for missing data and duplicates\n",
    " * Fixing any incosistency in the dataset"
   ]
  },
  {
   "cell_type": "markdown",
   "id": "6185933d",
   "metadata": {},
   "source": [
    " <font size=\"5\">Importing libraries</font>"
   ]
  },
  {
   "cell_type": "code",
   "execution_count": 126,
   "id": "446b6d52",
   "metadata": {},
   "outputs": [],
   "source": [
    "#import necessary modules\n",
    "import shapely\n",
    "import warnings\n",
    "from shapely.errors import ShapelyDeprecationWarning\n",
    "warnings.filterwarnings(\"ignore\", category=ShapelyDeprecationWarning) \n",
    "\n",
    "\n",
    "import pandas as pd\n",
    "import numpy as np\n",
    "from matplotlib import pyplot as plt\n",
    "import seaborn as sns\n",
    "from shapely.geometry import Point\n",
    "import geopandas as gpd\n",
    "\n",
    "%matplotlib inline"
   ]
  },
  {
   "cell_type": "markdown",
   "id": "c9ffc0e6",
   "metadata": {},
   "source": [
    "<font size=\"5\">Loading dataset</font>\n",
    "> The data set is provided as a csv file __[in the repo](https://github.com/Aanuoluwa101/Data-Science/Brazilian_fire_EDA)__"
   ]
  },
  {
   "cell_type": "code",
   "execution_count": 127,
   "id": "5b331e3a",
   "metadata": {},
   "outputs": [],
   "source": [
    "#load dataset\n",
    "data = pd.read_csv('Brazilian-fire-dataset.csv')"
   ]
  },
  {
   "cell_type": "markdown",
   "id": "fef29f43",
   "metadata": {},
   "source": [
    "<font size=\"5\">Examining the data</font>"
   ]
  },
  {
   "cell_type": "code",
   "execution_count": 128,
   "id": "c026f093",
   "metadata": {},
   "outputs": [
    {
     "data": {
      "text/html": [
       "<div>\n",
       "<style scoped>\n",
       "    .dataframe tbody tr th:only-of-type {\n",
       "        vertical-align: middle;\n",
       "    }\n",
       "\n",
       "    .dataframe tbody tr th {\n",
       "        vertical-align: top;\n",
       "    }\n",
       "\n",
       "    .dataframe thead th {\n",
       "        text-align: right;\n",
       "    }\n",
       "</style>\n",
       "<table border=\"1\" class=\"dataframe\">\n",
       "  <thead>\n",
       "    <tr style=\"text-align: right;\">\n",
       "      <th></th>\n",
       "      <th>Year</th>\n",
       "      <th>State</th>\n",
       "      <th>Month</th>\n",
       "      <th>Number of Fires</th>\n",
       "      <th>Date Reported</th>\n",
       "    </tr>\n",
       "  </thead>\n",
       "  <tbody>\n",
       "    <tr>\n",
       "      <th>0</th>\n",
       "      <td>1998</td>\n",
       "      <td>Acre</td>\n",
       "      <td>January</td>\n",
       "      <td>0.0</td>\n",
       "      <td>1/01/1998</td>\n",
       "    </tr>\n",
       "    <tr>\n",
       "      <th>1</th>\n",
       "      <td>1999</td>\n",
       "      <td>Acre</td>\n",
       "      <td>January</td>\n",
       "      <td>0.0</td>\n",
       "      <td>1/01/1999</td>\n",
       "    </tr>\n",
       "    <tr>\n",
       "      <th>2</th>\n",
       "      <td>2000</td>\n",
       "      <td>Acre</td>\n",
       "      <td>January</td>\n",
       "      <td>0.0</td>\n",
       "      <td>1/01/2000</td>\n",
       "    </tr>\n",
       "    <tr>\n",
       "      <th>3</th>\n",
       "      <td>2001</td>\n",
       "      <td>Acre</td>\n",
       "      <td>January</td>\n",
       "      <td>0.0</td>\n",
       "      <td>1/01/2001</td>\n",
       "    </tr>\n",
       "    <tr>\n",
       "      <th>4</th>\n",
       "      <td>2002</td>\n",
       "      <td>Acre</td>\n",
       "      <td>January</td>\n",
       "      <td>0.0</td>\n",
       "      <td>1/01/2002</td>\n",
       "    </tr>\n",
       "  </tbody>\n",
       "</table>\n",
       "</div>"
      ],
      "text/plain": [
       "   Year State    Month  Number of Fires Date Reported\n",
       "0  1998  Acre  January              0.0     1/01/1998\n",
       "1  1999  Acre  January              0.0     1/01/1999\n",
       "2  2000  Acre  January              0.0     1/01/2000\n",
       "3  2001  Acre  January              0.0     1/01/2001\n",
       "4  2002  Acre  January              0.0     1/01/2002"
      ]
     },
     "execution_count": 128,
     "metadata": {},
     "output_type": "execute_result"
    }
   ],
   "source": [
    "data.head()"
   ]
  },
  {
   "cell_type": "code",
   "execution_count": 129,
   "id": "b056b6b9",
   "metadata": {},
   "outputs": [
    {
     "data": {
      "text/html": [
       "<div>\n",
       "<style scoped>\n",
       "    .dataframe tbody tr th:only-of-type {\n",
       "        vertical-align: middle;\n",
       "    }\n",
       "\n",
       "    .dataframe tbody tr th {\n",
       "        vertical-align: top;\n",
       "    }\n",
       "\n",
       "    .dataframe thead th {\n",
       "        text-align: right;\n",
       "    }\n",
       "</style>\n",
       "<table border=\"1\" class=\"dataframe\">\n",
       "  <thead>\n",
       "    <tr style=\"text-align: right;\">\n",
       "      <th></th>\n",
       "      <th>Year</th>\n",
       "      <th>State</th>\n",
       "      <th>Month</th>\n",
       "      <th>Number of Fires</th>\n",
       "      <th>Date Reported</th>\n",
       "    </tr>\n",
       "  </thead>\n",
       "  <tbody>\n",
       "    <tr>\n",
       "      <th>6449</th>\n",
       "      <td>2012</td>\n",
       "      <td>Tocantins</td>\n",
       "      <td>December</td>\n",
       "      <td>128.0</td>\n",
       "      <td>1/01/2012</td>\n",
       "    </tr>\n",
       "    <tr>\n",
       "      <th>6450</th>\n",
       "      <td>2013</td>\n",
       "      <td>Tocantins</td>\n",
       "      <td>December</td>\n",
       "      <td>85.0</td>\n",
       "      <td>1/01/2013</td>\n",
       "    </tr>\n",
       "    <tr>\n",
       "      <th>6451</th>\n",
       "      <td>2014</td>\n",
       "      <td>Tocantins</td>\n",
       "      <td>December</td>\n",
       "      <td>223.0</td>\n",
       "      <td>1/01/2014</td>\n",
       "    </tr>\n",
       "    <tr>\n",
       "      <th>6452</th>\n",
       "      <td>2015</td>\n",
       "      <td>Tocantins</td>\n",
       "      <td>December</td>\n",
       "      <td>373.0</td>\n",
       "      <td>1/01/2015</td>\n",
       "    </tr>\n",
       "    <tr>\n",
       "      <th>6453</th>\n",
       "      <td>2016</td>\n",
       "      <td>Tocantins</td>\n",
       "      <td>December</td>\n",
       "      <td>119.0</td>\n",
       "      <td>1/01/2016</td>\n",
       "    </tr>\n",
       "  </tbody>\n",
       "</table>\n",
       "</div>"
      ],
      "text/plain": [
       "      Year      State     Month  Number of Fires Date Reported\n",
       "6449  2012  Tocantins  December            128.0     1/01/2012\n",
       "6450  2013  Tocantins  December             85.0     1/01/2013\n",
       "6451  2014  Tocantins  December            223.0     1/01/2014\n",
       "6452  2015  Tocantins  December            373.0     1/01/2015\n",
       "6453  2016  Tocantins  December            119.0     1/01/2016"
      ]
     },
     "execution_count": 129,
     "metadata": {},
     "output_type": "execute_result"
    }
   ],
   "source": [
    "data.tail()"
   ]
  },
  {
   "cell_type": "code",
   "execution_count": 130,
   "id": "5bab0b16",
   "metadata": {},
   "outputs": [
    {
     "data": {
      "text/plain": [
       "array([1998, 1999, 2000, 2001, 2002, 2003, 2004, 2005, 2006, 2007, 2008,\n",
       "       2009, 2010, 2011, 2012, 2013, 2014, 2015, 2016, 2017], dtype=int64)"
      ]
     },
     "execution_count": 130,
     "metadata": {},
     "output_type": "execute_result"
    }
   ],
   "source": [
    "data.Year.unique()"
   ]
  },
  {
   "cell_type": "code",
   "execution_count": 131,
   "id": "36a9073d",
   "metadata": {},
   "outputs": [
    {
     "data": {
      "text/plain": [
       "array(['Acre', 'Alagoas', 'Amapá', 'Amazonas', 'Bahia', 'Ceará',\n",
       "       'Distrito Federal', 'Espírito Santo', 'Goiás', 'Maranhão',\n",
       "       'Mato Grosso', 'Mato Grosso do Sul', 'Minas Gerais', 'Pará',\n",
       "       'Paraíba', 'Paraná', 'Pernambuco', 'Piauí', 'Rio de January',\n",
       "       'Rio Grande do Norte', 'Rio Grande do Sul', 'Rondônia', 'Roraima',\n",
       "       'Santa Catarina', 'São Paulo', 'Sergipe', 'Tocantins'],\n",
       "      dtype=object)"
      ]
     },
     "execution_count": 131,
     "metadata": {},
     "output_type": "execute_result"
    }
   ],
   "source": [
    "data.State.unique()"
   ]
  },
  {
   "cell_type": "code",
   "execution_count": 132,
   "id": "ddb9ed71",
   "metadata": {},
   "outputs": [
    {
     "data": {
      "text/plain": [
       "array(['January', 'February', 'March', 'April', 'May', 'June', 'July',\n",
       "       'August', 'September', 'October', 'November', 'December'],\n",
       "      dtype=object)"
      ]
     },
     "execution_count": 132,
     "metadata": {},
     "output_type": "execute_result"
    }
   ],
   "source": [
    "data.Month.unique()"
   ]
  },
  {
   "cell_type": "code",
   "execution_count": 133,
   "id": "b0c9d7f2",
   "metadata": {},
   "outputs": [
    {
     "data": {
      "text/html": [
       "<div>\n",
       "<style scoped>\n",
       "    .dataframe tbody tr th:only-of-type {\n",
       "        vertical-align: middle;\n",
       "    }\n",
       "\n",
       "    .dataframe tbody tr th {\n",
       "        vertical-align: top;\n",
       "    }\n",
       "\n",
       "    .dataframe thead th {\n",
       "        text-align: right;\n",
       "    }\n",
       "</style>\n",
       "<table border=\"1\" class=\"dataframe\">\n",
       "  <thead>\n",
       "    <tr style=\"text-align: right;\">\n",
       "      <th></th>\n",
       "      <th>Year</th>\n",
       "      <th>State</th>\n",
       "      <th>Month</th>\n",
       "      <th>Number of Fires</th>\n",
       "      <th>Date Reported</th>\n",
       "    </tr>\n",
       "  </thead>\n",
       "  <tbody>\n",
       "    <tr>\n",
       "      <th>0</th>\n",
       "      <td>1998</td>\n",
       "      <td>Acre</td>\n",
       "      <td>January</td>\n",
       "      <td>0.0</td>\n",
       "      <td>1/01/1998</td>\n",
       "    </tr>\n",
       "    <tr>\n",
       "      <th>1</th>\n",
       "      <td>1999</td>\n",
       "      <td>Acre</td>\n",
       "      <td>January</td>\n",
       "      <td>0.0</td>\n",
       "      <td>1/01/1999</td>\n",
       "    </tr>\n",
       "    <tr>\n",
       "      <th>2</th>\n",
       "      <td>2000</td>\n",
       "      <td>Acre</td>\n",
       "      <td>January</td>\n",
       "      <td>0.0</td>\n",
       "      <td>1/01/2000</td>\n",
       "    </tr>\n",
       "    <tr>\n",
       "      <th>3</th>\n",
       "      <td>2001</td>\n",
       "      <td>Acre</td>\n",
       "      <td>January</td>\n",
       "      <td>0.0</td>\n",
       "      <td>1/01/2001</td>\n",
       "    </tr>\n",
       "    <tr>\n",
       "      <th>4</th>\n",
       "      <td>2002</td>\n",
       "      <td>Acre</td>\n",
       "      <td>January</td>\n",
       "      <td>0.0</td>\n",
       "      <td>1/01/2002</td>\n",
       "    </tr>\n",
       "    <tr>\n",
       "      <th>...</th>\n",
       "      <td>...</td>\n",
       "      <td>...</td>\n",
       "      <td>...</td>\n",
       "      <td>...</td>\n",
       "      <td>...</td>\n",
       "    </tr>\n",
       "    <tr>\n",
       "      <th>6449</th>\n",
       "      <td>2012</td>\n",
       "      <td>Tocantins</td>\n",
       "      <td>December</td>\n",
       "      <td>128.0</td>\n",
       "      <td>1/01/2012</td>\n",
       "    </tr>\n",
       "    <tr>\n",
       "      <th>6450</th>\n",
       "      <td>2013</td>\n",
       "      <td>Tocantins</td>\n",
       "      <td>December</td>\n",
       "      <td>85.0</td>\n",
       "      <td>1/01/2013</td>\n",
       "    </tr>\n",
       "    <tr>\n",
       "      <th>6451</th>\n",
       "      <td>2014</td>\n",
       "      <td>Tocantins</td>\n",
       "      <td>December</td>\n",
       "      <td>223.0</td>\n",
       "      <td>1/01/2014</td>\n",
       "    </tr>\n",
       "    <tr>\n",
       "      <th>6452</th>\n",
       "      <td>2015</td>\n",
       "      <td>Tocantins</td>\n",
       "      <td>December</td>\n",
       "      <td>373.0</td>\n",
       "      <td>1/01/2015</td>\n",
       "    </tr>\n",
       "    <tr>\n",
       "      <th>6453</th>\n",
       "      <td>2016</td>\n",
       "      <td>Tocantins</td>\n",
       "      <td>December</td>\n",
       "      <td>119.0</td>\n",
       "      <td>1/01/2016</td>\n",
       "    </tr>\n",
       "  </tbody>\n",
       "</table>\n",
       "<p>6454 rows × 5 columns</p>\n",
       "</div>"
      ],
      "text/plain": [
       "      Year      State     Month  Number of Fires Date Reported\n",
       "0     1998       Acre   January              0.0     1/01/1998\n",
       "1     1999       Acre   January              0.0     1/01/1999\n",
       "2     2000       Acre   January              0.0     1/01/2000\n",
       "3     2001       Acre   January              0.0     1/01/2001\n",
       "4     2002       Acre   January              0.0     1/01/2002\n",
       "...    ...        ...       ...              ...           ...\n",
       "6449  2012  Tocantins  December            128.0     1/01/2012\n",
       "6450  2013  Tocantins  December             85.0     1/01/2013\n",
       "6451  2014  Tocantins  December            223.0     1/01/2014\n",
       "6452  2015  Tocantins  December            373.0     1/01/2015\n",
       "6453  2016  Tocantins  December            119.0     1/01/2016\n",
       "\n",
       "[6454 rows x 5 columns]"
      ]
     },
     "execution_count": 133,
     "metadata": {},
     "output_type": "execute_result"
    }
   ],
   "source": [
    "data"
   ]
  },
  {
   "cell_type": "markdown",
   "id": "d80bbf1b",
   "metadata": {
    "scrolled": true
   },
   "source": [
    "* The dataset is organized such that the Number of fires is recorded for each month from 1998 to 2017, and this is done for each state. For example, fires in Acre occuring in January from 1998 to 2017, then fires in Acre occuring in Feburary from 1998 to 2017 etc.\n",
    "\n"
   ]
  },
  {
   "cell_type": "markdown",
   "id": "29dd71d2",
   "metadata": {},
   "source": [
    "<font size=\"5\">Checking for missing data,duplicates and the consistency of the data</font>"
   ]
  },
  {
   "cell_type": "code",
   "execution_count": 134,
   "id": "839765ab",
   "metadata": {},
   "outputs": [
    {
     "data": {
      "text/plain": [
       "1"
      ]
     },
     "execution_count": 134,
     "metadata": {},
     "output_type": "execute_result"
    }
   ],
   "source": [
    "#checking for duplicates\n",
    "\n",
    "sum(data.duplicated())"
   ]
  },
  {
   "cell_type": "code",
   "execution_count": 135,
   "id": "bab4c11c",
   "metadata": {},
   "outputs": [
    {
     "data": {
      "text/html": [
       "<div>\n",
       "<style scoped>\n",
       "    .dataframe tbody tr th:only-of-type {\n",
       "        vertical-align: middle;\n",
       "    }\n",
       "\n",
       "    .dataframe tbody tr th {\n",
       "        vertical-align: top;\n",
       "    }\n",
       "\n",
       "    .dataframe thead th {\n",
       "        text-align: right;\n",
       "    }\n",
       "</style>\n",
       "<table border=\"1\" class=\"dataframe\">\n",
       "  <thead>\n",
       "    <tr style=\"text-align: right;\">\n",
       "      <th></th>\n",
       "      <th>Year</th>\n",
       "      <th>State</th>\n",
       "      <th>Month</th>\n",
       "      <th>Number of Fires</th>\n",
       "      <th>Date Reported</th>\n",
       "    </tr>\n",
       "  </thead>\n",
       "  <tbody>\n",
       "    <tr>\n",
       "      <th>259</th>\n",
       "      <td>2017</td>\n",
       "      <td>Alagoas</td>\n",
       "      <td>January</td>\n",
       "      <td>38.0</td>\n",
       "      <td>1/01/2017</td>\n",
       "    </tr>\n",
       "  </tbody>\n",
       "</table>\n",
       "</div>"
      ],
      "text/plain": [
       "     Year    State    Month  Number of Fires Date Reported\n",
       "259  2017  Alagoas  January             38.0     1/01/2017"
      ]
     },
     "execution_count": 135,
     "metadata": {},
     "output_type": "execute_result"
    }
   ],
   "source": [
    "data[data.duplicated()]"
   ]
  },
  {
   "cell_type": "code",
   "execution_count": 136,
   "id": "8971c4b6",
   "metadata": {},
   "outputs": [
    {
     "data": {
      "text/html": [
       "<div>\n",
       "<style scoped>\n",
       "    .dataframe tbody tr th:only-of-type {\n",
       "        vertical-align: middle;\n",
       "    }\n",
       "\n",
       "    .dataframe tbody tr th {\n",
       "        vertical-align: top;\n",
       "    }\n",
       "\n",
       "    .dataframe thead th {\n",
       "        text-align: right;\n",
       "    }\n",
       "</style>\n",
       "<table border=\"1\" class=\"dataframe\">\n",
       "  <thead>\n",
       "    <tr style=\"text-align: right;\">\n",
       "      <th></th>\n",
       "      <th>Year</th>\n",
       "      <th>State</th>\n",
       "      <th>Month</th>\n",
       "      <th>Number of Fires</th>\n",
       "      <th>Date Reported</th>\n",
       "    </tr>\n",
       "  </thead>\n",
       "  <tbody>\n",
       "    <tr>\n",
       "      <th>258</th>\n",
       "      <td>2017</td>\n",
       "      <td>Alagoas</td>\n",
       "      <td>January</td>\n",
       "      <td>38.0</td>\n",
       "      <td>1/01/2017</td>\n",
       "    </tr>\n",
       "    <tr>\n",
       "      <th>259</th>\n",
       "      <td>2017</td>\n",
       "      <td>Alagoas</td>\n",
       "      <td>January</td>\n",
       "      <td>38.0</td>\n",
       "      <td>1/01/2017</td>\n",
       "    </tr>\n",
       "  </tbody>\n",
       "</table>\n",
       "</div>"
      ],
      "text/plain": [
       "     Year    State    Month  Number of Fires Date Reported\n",
       "258  2017  Alagoas  January             38.0     1/01/2017\n",
       "259  2017  Alagoas  January             38.0     1/01/2017"
      ]
     },
     "execution_count": 136,
     "metadata": {},
     "output_type": "execute_result"
    }
   ],
   "source": [
    "data.iloc[258:260,:]"
   ]
  },
  {
   "cell_type": "code",
   "execution_count": 137,
   "id": "e71024aa",
   "metadata": {},
   "outputs": [],
   "source": [
    "#remove the duplicates making sure to keep the first entry\n",
    "\n",
    "data = data.drop_duplicates(keep = \"first\")"
   ]
  },
  {
   "cell_type": "code",
   "execution_count": 138,
   "id": "54bc1f90",
   "metadata": {},
   "outputs": [
    {
     "data": {
      "text/plain": [
       "0"
      ]
     },
     "execution_count": 138,
     "metadata": {},
     "output_type": "execute_result"
    }
   ],
   "source": [
    "sum(data.duplicated())"
   ]
  },
  {
   "cell_type": "code",
   "execution_count": 139,
   "id": "feaa1542",
   "metadata": {},
   "outputs": [
    {
     "data": {
      "text/plain": [
       "Year               False\n",
       "State              False\n",
       "Month              False\n",
       "Number of Fires    False\n",
       "Date Reported      False\n",
       "dtype: bool"
      ]
     },
     "execution_count": 139,
     "metadata": {},
     "output_type": "execute_result"
    }
   ],
   "source": [
    "#Checking for missing data\n",
    "data.isna().any()\n",
    "\n",
    "#no missing data"
   ]
  },
  {
   "cell_type": "code",
   "execution_count": 140,
   "id": "d476416b",
   "metadata": {},
   "outputs": [
    {
     "name": "stdout",
     "output_type": "stream",
     "text": [
      "Number of states:  27\n",
      "Number of years:  20\n",
      "Number of months:  12\n"
     ]
    }
   ],
   "source": [
    "print(\"Number of states: \", len(data.State.unique()))\n",
    "print(\"Number of years: \", len(data.Year.unique()))\n",
    "print(\"Number of months: \", len(data.Month.unique()))\n"
   ]
  },
  {
   "cell_type": "code",
   "execution_count": 141,
   "id": "b095f091",
   "metadata": {},
   "outputs": [
    {
     "name": "stdout",
     "output_type": "stream",
     "text": [
      "Expected number of data points:  6480\n",
      "Number of data points:  6453\n"
     ]
    }
   ],
   "source": [
    "print(\"Expected number of data points: \", 27 * 20 * 12)\n",
    "print(\"Number of data points: \", len(data))"
   ]
  },
  {
   "cell_type": "markdown",
   "id": "0c76544f",
   "metadata": {},
   "source": [
    "* We have less data points than we expected, given the structure of the dataset. <br> \n",
    "\n",
    "Let us find out why this is so"
   ]
  },
  {
   "cell_type": "code",
   "execution_count": 142,
   "id": "132c1179",
   "metadata": {},
   "outputs": [],
   "source": [
    "#grouping the Number of fires by year\n",
    "year_grouped = data['Number of Fires'].groupby(data['Year'])  "
   ]
  },
  {
   "cell_type": "code",
   "execution_count": 143,
   "id": "35a5513b",
   "metadata": {},
   "outputs": [
    {
     "data": {
      "text/plain": [
       "{1998: 0       0.000\n",
       " 20      0.000\n",
       " 40      0.000\n",
       " 60      0.000\n",
       " 80      0.000\n",
       "         ...  \n",
       " 6355    3.747\n",
       " 6375    5.149\n",
       " 6395    1.738\n",
       " 6415    1.000\n",
       " 6435    9.000\n",
       " Name: Number of Fires, Length: 324, dtype: float64,\n",
       " 1999: 1        0.000\n",
       " 21       0.000\n",
       " 41       0.000\n",
       " 61       0.000\n",
       " 81       0.000\n",
       "          ...  \n",
       " 6356     1.284\n",
       " 6376     3.415\n",
       " 6396     1.378\n",
       " 6416    29.000\n",
       " 6436    16.000\n",
       " Name: Number of Fires, Length: 324, dtype: float64,\n",
       " 2000: 2        0.000\n",
       " 22       0.000\n",
       " 42      11.000\n",
       " 62       1.000\n",
       " 82       1.000\n",
       "          ...  \n",
       " 6357     1.949\n",
       " 6377     2.552\n",
       " 6397     1.053\n",
       " 6417    96.000\n",
       " 6437    20.000\n",
       " Name: Number of Fires, Length: 324, dtype: float64,\n",
       " 2001: 3         0.000\n",
       " 23        0.000\n",
       " 43        0.000\n",
       " 63        0.000\n",
       " 83        0.000\n",
       "          ...   \n",
       " 6358      2.242\n",
       " 6378      4.839\n",
       " 6398    684.000\n",
       " 6418    100.000\n",
       " 6438     21.000\n",
       " Name: Number of Fires, Length: 324, dtype: float64,\n",
       " 2002: 4         0.000\n",
       " 24        1.000\n",
       " 44        0.000\n",
       " 64        0.000\n",
       " 84        0.000\n",
       "          ...   \n",
       " 6359      3.027\n",
       " 6379      5.314\n",
       " 6399      1.537\n",
       " 6419    207.000\n",
       " 6439     39.000\n",
       " Name: Number of Fires, Length: 324, dtype: float64,\n",
       " 2003: 5        10.000\n",
       " 25        0.000\n",
       " 45        0.000\n",
       " 65        1.000\n",
       " 85        6.000\n",
       "          ...   \n",
       " 6360      1.339\n",
       " 6380      4.637\n",
       " 6400      1.339\n",
       " 6420    146.000\n",
       " 6440    109.000\n",
       " Name: Number of Fires, Length: 324, dtype: float64,\n",
       " 2004: 6         0.000\n",
       " 26        3.000\n",
       " 46        0.000\n",
       " 66        2.000\n",
       " 86        7.000\n",
       "          ...   \n",
       " 6361      1.776\n",
       " 6381      5.308\n",
       " 6401      1.658\n",
       " 6421    424.000\n",
       " 6441     96.000\n",
       " Name: Number of Fires, Length: 324, dtype: float64,\n",
       " 2005: 7        12.000\n",
       " 27        0.000\n",
       " 47        3.000\n",
       " 67        1.000\n",
       " 87        2.000\n",
       "          ...   \n",
       " 6362      1.840\n",
       " 6382      5.319\n",
       " 6402      2.913\n",
       " 6422    271.000\n",
       " 6442     53.000\n",
       " Name: Number of Fires, Length: 324, dtype: float64,\n",
       " 2006: 8         4.000\n",
       " 28        0.000\n",
       " 48        0.000\n",
       " 68        0.000\n",
       " 88        8.000\n",
       "          ...   \n",
       " 6363      1.277\n",
       " 6383      2.979\n",
       " 6403      1.176\n",
       " 6423    108.000\n",
       " 6443     15.000\n",
       " Name: Number of Fires, Length: 324, dtype: float64,\n",
       " 2007: 9         0.000\n",
       " 29        5.000\n",
       " 49        2.000\n",
       " 69        0.000\n",
       " 89        1.000\n",
       "          ...   \n",
       " 6364      4.747\n",
       " 6384      6.829\n",
       " 6404      2.252\n",
       " 6424    147.000\n",
       " 6444     13.000\n",
       " Name: Number of Fires, Length: 324, dtype: float64,\n",
       " 2008: 10        0.000\n",
       " 30        0.000\n",
       " 50        0.000\n",
       " 70        0.000\n",
       " 90        0.000\n",
       "          ...   \n",
       " 6365    845.000\n",
       " 6385      2.390\n",
       " 6405      2.832\n",
       " 6425    104.000\n",
       " 6445      7.000\n",
       " Name: Number of Fires, Length: 324, dtype: float64,\n",
       " 2009: 11        0.000\n",
       " 31        2.000\n",
       " 51        1.000\n",
       " 71        0.000\n",
       " 91        3.000\n",
       "          ...   \n",
       " 6366      1.124\n",
       " 6386      2.017\n",
       " 6406    718.000\n",
       " 6426    251.000\n",
       " 6446     46.000\n",
       " Name: Number of Fires, Length: 324, dtype: float64,\n",
       " 2010: 12        1.000\n",
       " 32        0.000\n",
       " 52        0.000\n",
       " 72        3.000\n",
       " 92        9.000\n",
       "          ...   \n",
       " 6367      7.865\n",
       " 6387     10.172\n",
       " 6407      2.272\n",
       " 6427    283.000\n",
       " 6447     72.000\n",
       " Name: Number of Fires, Length: 324, dtype: float64,\n",
       " 2011: 13        0.000\n",
       " 33        0.000\n",
       " 53        0.000\n",
       " 73        2.000\n",
       " 93        3.000\n",
       "          ...   \n",
       " 6368      1.668\n",
       " 6388      4.658\n",
       " 6408      1.591\n",
       " 6428    144.000\n",
       " 6448    105.000\n",
       " Name: Number of Fires, Length: 324, dtype: float64,\n",
       " 2012: 14        0.00\n",
       " 34        0.00\n",
       " 54        1.00\n",
       " 74        1.00\n",
       " 94        3.00\n",
       "          ...  \n",
       " 6369      4.28\n",
       " 6389      7.46\n",
       " 6409      3.68\n",
       " 6429    179.00\n",
       " 6449    128.00\n",
       " Name: Number of Fires, Length: 324, dtype: float64,\n",
       " 2013: 15        0.000\n",
       " 35        0.000\n",
       " 55        2.000\n",
       " 75       19.000\n",
       " 95        4.000\n",
       "          ...   \n",
       " 6370      1.810\n",
       " 6390      2.445\n",
       " 6410      2.155\n",
       " 6430    345.000\n",
       " 6450     85.000\n",
       " Name: Number of Fires, Length: 324, dtype: float64,\n",
       " 2014: 16        0.000\n",
       " 36        0.000\n",
       " 56        1.000\n",
       " 76        7.000\n",
       " 96        1.000\n",
       "          ...   \n",
       " 6371      2.917\n",
       " 6391      3.520\n",
       " 6411      4.000\n",
       " 6431    451.000\n",
       " 6451    223.000\n",
       " Name: Number of Fires, Length: 324, dtype: float64,\n",
       " 2015: 17        1.000\n",
       " 37        2.000\n",
       " 57        2.000\n",
       " 77        3.000\n",
       " 97        2.000\n",
       "          ...   \n",
       " 6372      2.540\n",
       " 6392      5.510\n",
       " 6412      4.844\n",
       " 6432    833.000\n",
       " 6452    373.000\n",
       " Name: Number of Fires, Length: 324, dtype: float64,\n",
       " 2016: 18       12.000\n",
       " 38        5.000\n",
       " 58        0.000\n",
       " 78        0.000\n",
       " 98       21.000\n",
       "          ...   \n",
       " 6373      3.213\n",
       " 6393      3.245\n",
       " 6413      2.032\n",
       " 6433    623.000\n",
       " 6453    119.000\n",
       " Name: Number of Fires, Length: 324, dtype: float64,\n",
       " 2017: 19        0.000\n",
       " 39        1.000\n",
       " 59        0.000\n",
       " 79        1.000\n",
       " 99       10.000\n",
       "          ...   \n",
       " 6354      2.397\n",
       " 6374      3.536\n",
       " 6394     10.737\n",
       " 6414      2.969\n",
       " 6434    434.000\n",
       " Name: Number of Fires, Length: 297, dtype: float64}"
      ]
     },
     "execution_count": 143,
     "metadata": {},
     "output_type": "execute_result"
    }
   ],
   "source": [
    "#making a dictionary from the grouped data. Format(key:value) Year : Number of fires recorded\n",
    "year_fire = {}\n",
    "for year, fires in year_grouped:\n",
    "    year_fire[year] = fires\n",
    "\n",
    "year_fire"
   ]
  },
  {
   "cell_type": "markdown",
   "id": "84ad8e6b",
   "metadata": {},
   "source": [
    "* All the years have 324 data points each, except 2017 with 298 data points. <br>\n",
    "\n",
    "Let us probe further into the 2017 data."
   ]
  },
  {
   "cell_type": "code",
   "execution_count": 144,
   "id": "30f606b2",
   "metadata": {},
   "outputs": [],
   "source": [
    "#Extracting 2017 data\n",
    "data_17 = data[data['Year'] == 2017]  \n",
    "data_17 = data_17['Month'].groupby(data_17['State'])"
   ]
  },
  {
   "cell_type": "code",
   "execution_count": 145,
   "id": "98c8de38",
   "metadata": {},
   "outputs": [
    {
     "data": {
      "text/plain": [
       "{'Acre': 19       January\n",
       " 39      February\n",
       " 59         March\n",
       " 79         April\n",
       " 99           May\n",
       " 119         June\n",
       " 139         July\n",
       " 159       August\n",
       " 179    September\n",
       " 199      October\n",
       " 219     November\n",
       " Name: Month, dtype: object,\n",
       " 'Alagoas': 258      January\n",
       " 279     February\n",
       " 299        March\n",
       " 319        April\n",
       " 339          May\n",
       " 359         June\n",
       " 379         July\n",
       " 399       August\n",
       " 419    September\n",
       " 439      October\n",
       " 459     November\n",
       " Name: Month, dtype: object,\n",
       " 'Amapá': 498      January\n",
       " 518     February\n",
       " 538        March\n",
       " 558        April\n",
       " 578          May\n",
       " 598         June\n",
       " 618         July\n",
       " 638       August\n",
       " 658    September\n",
       " 678      October\n",
       " 698     November\n",
       " Name: Month, dtype: object,\n",
       " 'Amazonas': 737      January\n",
       " 757     February\n",
       " 777        March\n",
       " 797        April\n",
       " 817          May\n",
       " 837         June\n",
       " 857         July\n",
       " 877       August\n",
       " 897    September\n",
       " 917      October\n",
       " 937     November\n",
       " Name: Month, dtype: object,\n",
       " 'Bahia': 976       January\n",
       " 996      February\n",
       " 1016        March\n",
       " 1036        April\n",
       " 1056          May\n",
       " 1076         June\n",
       " 1096         July\n",
       " 1116       August\n",
       " 1136    September\n",
       " 1156      October\n",
       " 1176     November\n",
       " Name: Month, dtype: object,\n",
       " 'Ceará': 1215      January\n",
       " 1235     February\n",
       " 1255        March\n",
       " 1275        April\n",
       " 1295          May\n",
       " 1315         June\n",
       " 1335         July\n",
       " 1355       August\n",
       " 1375    September\n",
       " 1395      October\n",
       " 1415     November\n",
       " Name: Month, dtype: object,\n",
       " 'Distrito Federal': 1454      January\n",
       " 1474     February\n",
       " 1494        March\n",
       " 1514        April\n",
       " 1534          May\n",
       " 1554         June\n",
       " 1574         July\n",
       " 1594       August\n",
       " 1614    September\n",
       " 1634      October\n",
       " 1654     November\n",
       " Name: Month, dtype: object,\n",
       " 'Espírito Santo': 1693      January\n",
       " 1713     February\n",
       " 1733        March\n",
       " 1753        April\n",
       " 1773          May\n",
       " 1793         June\n",
       " 1813         July\n",
       " 1833       August\n",
       " 1853    September\n",
       " 1873      October\n",
       " 1893     November\n",
       " Name: Month, dtype: object,\n",
       " 'Goiás': 1932      January\n",
       " 1952     February\n",
       " 1972        March\n",
       " 1992        April\n",
       " 2012          May\n",
       " 2032         June\n",
       " 2052         July\n",
       " 2072       August\n",
       " 2092    September\n",
       " 2112      October\n",
       " 2132     November\n",
       " Name: Month, dtype: object,\n",
       " 'Maranhão': 2171      January\n",
       " 2191     February\n",
       " 2211        March\n",
       " 2231        April\n",
       " 2251          May\n",
       " 2271         June\n",
       " 2291         July\n",
       " 2311       August\n",
       " 2331    September\n",
       " 2351      October\n",
       " 2371     November\n",
       " Name: Month, dtype: object,\n",
       " 'Mato Grosso': 2410      January\n",
       " 2430     February\n",
       " 2450        March\n",
       " 2470        April\n",
       " 2490          May\n",
       " 2510         June\n",
       " 2530         July\n",
       " 2550       August\n",
       " 2570    September\n",
       " 2590      October\n",
       " 2610     November\n",
       " Name: Month, dtype: object,\n",
       " 'Mato Grosso do Sul': 2649      January\n",
       " 2669     February\n",
       " 2689        March\n",
       " 2709        April\n",
       " 2729          May\n",
       " 2749         June\n",
       " 2769         July\n",
       " 2789       August\n",
       " 2809    September\n",
       " 2829      October\n",
       " 2849     November\n",
       " Name: Month, dtype: object,\n",
       " 'Minas Gerais': 2888      January\n",
       " 2908     February\n",
       " 2928        March\n",
       " 2948        April\n",
       " 2968          May\n",
       " 2988         June\n",
       " 3008         July\n",
       " 3028       August\n",
       " 3048    September\n",
       " 3068      October\n",
       " 3088     November\n",
       " Name: Month, dtype: object,\n",
       " 'Paraná': 3605      January\n",
       " 3625     February\n",
       " 3645        March\n",
       " 3665        April\n",
       " 3685          May\n",
       " 3705         June\n",
       " 3725         July\n",
       " 3745       August\n",
       " 3765    September\n",
       " 3785      October\n",
       " 3805     November\n",
       " Name: Month, dtype: object,\n",
       " 'Paraíba': 3366      January\n",
       " 3386     February\n",
       " 3406        March\n",
       " 3426        April\n",
       " 3446          May\n",
       " 3466         June\n",
       " 3486         July\n",
       " 3506       August\n",
       " 3526    September\n",
       " 3546      October\n",
       " 3566     November\n",
       " Name: Month, dtype: object,\n",
       " 'Pará': 3127      January\n",
       " 3147     February\n",
       " 3167        March\n",
       " 3187        April\n",
       " 3207          May\n",
       " 3227         June\n",
       " 3247         July\n",
       " 3267       August\n",
       " 3287    September\n",
       " 3307      October\n",
       " 3327     November\n",
       " Name: Month, dtype: object,\n",
       " 'Pernambuco': 3844      January\n",
       " 3864     February\n",
       " 3884        March\n",
       " 3904        April\n",
       " 3924          May\n",
       " 3944         June\n",
       " 3964         July\n",
       " 3984       August\n",
       " 4004    September\n",
       " 4024      October\n",
       " 4044     November\n",
       " Name: Month, dtype: object,\n",
       " 'Piauí': 4083      January\n",
       " 4103     February\n",
       " 4123        March\n",
       " 4143        April\n",
       " 4163          May\n",
       " 4183         June\n",
       " 4203         July\n",
       " 4223       August\n",
       " 4243    September\n",
       " 4263      October\n",
       " 4283     November\n",
       " Name: Month, dtype: object,\n",
       " 'Rio Grande do Norte': 4561      January\n",
       " 4581     February\n",
       " 4601        March\n",
       " 4621        April\n",
       " 4641          May\n",
       " 4661         June\n",
       " 4681         July\n",
       " 4701       August\n",
       " 4721    September\n",
       " 4741      October\n",
       " 4761     November\n",
       " Name: Month, dtype: object,\n",
       " 'Rio Grande do Sul': 4800      January\n",
       " 4820     February\n",
       " 4840        March\n",
       " 4860        April\n",
       " 4880          May\n",
       " 4900         June\n",
       " 4920         July\n",
       " 4940       August\n",
       " 4960    September\n",
       " 4980      October\n",
       " 5000     November\n",
       " Name: Month, dtype: object,\n",
       " 'Rio de January': 4322      January\n",
       " 4342     February\n",
       " 4362        March\n",
       " 4382        April\n",
       " 4402          May\n",
       " 4422         June\n",
       " 4442         July\n",
       " 4462       August\n",
       " 4482    September\n",
       " 4502      October\n",
       " 4522     November\n",
       " Name: Month, dtype: object,\n",
       " 'Rondônia': 5039      January\n",
       " 5059     February\n",
       " 5079        March\n",
       " 5099        April\n",
       " 5119          May\n",
       " 5139         June\n",
       " 5159         July\n",
       " 5179       August\n",
       " 5199    September\n",
       " 5219      October\n",
       " 5239     November\n",
       " Name: Month, dtype: object,\n",
       " 'Roraima': 5278      January\n",
       " 5298     February\n",
       " 5318        March\n",
       " 5338        April\n",
       " 5358          May\n",
       " 5378         June\n",
       " 5398         July\n",
       " 5418       August\n",
       " 5438    September\n",
       " 5458      October\n",
       " 5478     November\n",
       " Name: Month, dtype: object,\n",
       " 'Santa Catarina': 5517      January\n",
       " 5537     February\n",
       " 5557        March\n",
       " 5577        April\n",
       " 5597          May\n",
       " 5617         June\n",
       " 5637         July\n",
       " 5657       August\n",
       " 5677    September\n",
       " 5697      October\n",
       " 5717     November\n",
       " Name: Month, dtype: object,\n",
       " 'Sergipe': 5995      January\n",
       " 6015     February\n",
       " 6035        March\n",
       " 6055        April\n",
       " 6075          May\n",
       " 6095         June\n",
       " 6115         July\n",
       " 6135       August\n",
       " 6155    September\n",
       " 6175      October\n",
       " 6195     November\n",
       " Name: Month, dtype: object,\n",
       " 'São Paulo': 5756      January\n",
       " 5776     February\n",
       " 5796        March\n",
       " 5816        April\n",
       " 5836          May\n",
       " 5856         June\n",
       " 5876         July\n",
       " 5896       August\n",
       " 5916    September\n",
       " 5936      October\n",
       " 5956     November\n",
       " Name: Month, dtype: object,\n",
       " 'Tocantins': 6234      January\n",
       " 6254     February\n",
       " 6274        March\n",
       " 6294        April\n",
       " 6314          May\n",
       " 6334         June\n",
       " 6354         July\n",
       " 6374       August\n",
       " 6394    September\n",
       " 6414      October\n",
       " 6434     November\n",
       " Name: Month, dtype: object}"
      ]
     },
     "execution_count": 145,
     "metadata": {},
     "output_type": "execute_result"
    }
   ],
   "source": [
    "states_2017 = {}\n",
    "for state, month in data_17:\n",
    "    states_2017[state] = month\n",
    "\n",
    "states_2017"
   ]
  },
  {
   "cell_type": "code",
   "execution_count": 146,
   "id": "6db8e95f",
   "metadata": {},
   "outputs": [
    {
     "data": {
      "text/plain": [
       "Acre                   11\n",
       "Alagoas                11\n",
       "Amapá                  11\n",
       "Amazonas               11\n",
       "Bahia                  11\n",
       "Ceará                  11\n",
       "Distrito Federal       11\n",
       "Espírito Santo         11\n",
       "Goiás                  11\n",
       "Maranhão               11\n",
       "Mato Grosso            11\n",
       "Mato Grosso do Sul     11\n",
       "Minas Gerais           11\n",
       "Paraná                 11\n",
       "Paraíba                11\n",
       "Pará                   11\n",
       "Pernambuco             11\n",
       "Piauí                  11\n",
       "Rio Grande do Norte    11\n",
       "Rio Grande do Sul      11\n",
       "Rio de January         11\n",
       "Rondônia               11\n",
       "Roraima                11\n",
       "Santa Catarina         11\n",
       "Sergipe                11\n",
       "São Paulo              11\n",
       "Tocantins              11\n",
       "dtype: int64"
      ]
     },
     "execution_count": 146,
     "metadata": {},
     "output_type": "execute_result"
    }
   ],
   "source": [
    "states_17_dict = {state: len(states_2017[state]) for state in states_2017.keys()}\n",
    "pd.Series(states_17_dict)"
   ]
  },
  {
   "cell_type": "markdown",
   "id": "55cdd149",
   "metadata": {},
   "source": [
    "* In 2017, all the states lacked data for December. <br>\n",
    "\n",
    "We could exclude all Decembers or 2017 from the analysis, but we'll go for the former as we would still like to examine the trends in December. <br>"
   ]
  },
  {
   "cell_type": "code",
   "execution_count": 147,
   "id": "5676778c",
   "metadata": {},
   "outputs": [],
   "source": [
    "data = data[data.Year != 2017] "
   ]
  },
  {
   "cell_type": "code",
   "execution_count": 148,
   "id": "f87dfb8a",
   "metadata": {},
   "outputs": [
    {
     "data": {
      "text/plain": [
       "True"
      ]
     },
     "execution_count": 148,
     "metadata": {},
     "output_type": "execute_result"
    }
   ],
   "source": [
    "len(data) == 19 * 27 * 12   #using 19 years"
   ]
  },
  {
   "cell_type": "markdown",
   "id": "2c0afff2",
   "metadata": {},
   "source": [
    "## PART 2 : Plotting and visualization\n",
    "* Bar plots\n",
    "* cluster maps\n",
    "* choropleth maps\n",
    "\n",
    "\n",
    "\n",
    "\n",
    "<font size=\"5\">Barplots</font>"
   ]
  },
  {
   "cell_type": "code",
   "execution_count": 149,
   "id": "ceeebf60",
   "metadata": {},
   "outputs": [],
   "source": [
    "#grouping Number of fires by year\n",
    "year_grouped = data['Number of Fires'].groupby(data['Year'])  \n",
    "\n",
    "#converting the year_grouped grouby object into a series by aggregation\n",
    "year_grouped = year_grouped.sum()"
   ]
  },
  {
   "cell_type": "code",
   "execution_count": 150,
   "id": "98b844e4",
   "metadata": {},
   "outputs": [
    {
     "data": {
      "image/png": "[encoded data removed]",
      "text/plain": [
       "<Figure size 1080x576 with 1 Axes>"
      ]
     },
     "metadata": {
      "needs_background": "light"
     },
     "output_type": "display_data"
    }
   ],
   "source": [
    "#Barplot showing the total number fires from 1998 to 2016\n",
    "fig, ax = plt.subplots(figsize = (15, 8))\n",
    "\n",
    "sns.set(style = 'whitegrid', color_codes = True)\n",
    "palette = sns.color_palette(\"Reds_r\", len(year_grouped))\n",
    "rank = year_grouped.argsort().argsort()\n",
    "sns.barplot(x = year_grouped.index, y = year_grouped.values, palette = np.array(palette[::-1])[rank])\n",
    "ax.set(ylabel = \"Total Number of Fires\")\n",
    "plt.title(\"Total Number of Fires in Brazil from 1998 to 2016\")\n",
    "plt.show()"
   ]
  },
  {
   "cell_type": "markdown",
   "id": "f162f5d9",
   "metadata": {},
   "source": [
    "* The number of fires generally increased over the years. There have been more fires in recent years. This is probably due to climate change and other detrimental effects of increased human activities in the natural environment.\n",
    "\n",
    "* There was also an oddly large number fires from 2002 to 2004, especially in 2003. This can be further investigated. \n",
    "\n",
    "The trend can be better seen in the line plot below"
   ]
  },
  {
   "cell_type": "code",
   "execution_count": 151,
   "id": "81d138bf",
   "metadata": {},
   "outputs": [
    {
     "data": {
      "text/plain": [
       "<AxesSubplot:xlabel='Year', ylabel='Number of Fires'>"
      ]
     },
     "execution_count": 151,
     "metadata": {},
     "output_type": "execute_result"
    },
    {
     "data": {
      "image/png": "[encoded data removed]",
      "text/plain": [
       "<Figure size 720x360 with 1 Axes>"
      ]
     },
     "metadata": {},
     "output_type": "display_data"
    }
   ],
   "source": [
    "fig, ax = plt.subplots(figsize = (10, 5))\n",
    "\n",
    "sns.lineplot(x = year_grouped.index, y = year_grouped)"
   ]
  },
  {
   "cell_type": "code",
   "execution_count": 152,
   "id": "fa85bb86",
   "metadata": {},
   "outputs": [],
   "source": [
    "month_grouped = data['Number of Fires'].groupby(data['Month'])\n",
    "\n",
    "month_grouped = month_grouped.sum().reindex(['January', 'February', 'March', 'April', \n",
    "                                             'May', 'June', 'July', 'August', 'September',\n",
    "                                              'October', 'November', 'December'])"
   ]
  },
  {
   "cell_type": "code",
   "execution_count": 153,
   "id": "458cf466",
   "metadata": {},
   "outputs": [
    {
     "data": {
      "image/png": "[encoded data removed]",
      "text/plain": [
       "<Figure size 1080x576 with 1 Axes>"
      ]
     },
     "metadata": {},
     "output_type": "display_data"
    }
   ],
   "source": [
    "fig, ax = plt.subplots(figsize = (15, 8))\n",
    "\n",
    "sns.set(style = 'whitegrid', color_codes = True)\n",
    "palette = sns.color_palette(\"Greens_r\", len(month_grouped))\n",
    "rank = month_grouped.argsort().argsort()\n",
    "sns.barplot(x = month_grouped.index, y = month_grouped, palette = np.array(palette[::-1])[rank])\n",
    "ax.set(ylabel = \"Total Number of Fires\")\n",
    "plt.title(\"Total Number of Fires in Brazil by Months, from 1998 to 2016\")\n",
    "plt.show()"
   ]
  },
  {
   "cell_type": "markdown",
   "id": "0f00f55c",
   "metadata": {},
   "source": [
    "* Fires are on the high side in the second half of the year. This is most likely because these months fall in the dry season."
   ]
  },
  {
   "cell_type": "code",
   "execution_count": 154,
   "id": "fd0b8f97",
   "metadata": {},
   "outputs": [],
   "source": [
    "state_grouped = data['Number of Fires'].groupby(data.State)\n",
    "state_grouped = pd.Series(state_grouped.sum()).sort_values()"
   ]
  },
  {
   "cell_type": "code",
   "execution_count": 155,
   "id": "82e496b8",
   "metadata": {},
   "outputs": [
    {
     "data": {
      "image/png": "[encoded data removed]",
      "text/plain": [
       "<Figure size 1080x576 with 1 Axes>"
      ]
     },
     "metadata": {},
     "output_type": "display_data"
    }
   ],
   "source": [
    "fig, ax = plt.subplots(figsize = (15, 8))\n",
    "\n",
    "sns.set(style = 'whitegrid', color_codes = True)\n",
    "palette = sns.color_palette(\"Blues_r\", len(state_grouped))\n",
    "rank = state_grouped.argsort().argsort()\n",
    "sns.barplot(x = state_grouped.index, y = state_grouped, palette = np.array(palette[::-1])[rank])\n",
    "ax.set(ylabel = \"Total Number of Fires\")\n",
    "plt.xticks(rotation = 60)\n",
    "plt.title(\"Total Number of Fires in Brazil by States, from 1998 to 2016\")\n",
    "plt.show()"
   ]
  },
  {
   "cell_type": "markdown",
   "id": "c4c5a98e",
   "metadata": {},
   "source": [
    "* Obviously we see that the number of fire occurrences varies accross the states. This is probably due to differences in weather condition across states and regions, and perhaps differences in the level of human impact on the environment\n",
    "* Also, there seems to several groups of states having similar number of fires. We would later see this better when we cluster.\n",
    "\n",
    "\n",
    "<font size=\"5\">Cluster map</font>"
   ]
  },
  {
   "cell_type": "code",
   "execution_count": 156,
   "id": "54f017ee",
   "metadata": {},
   "outputs": [
    {
     "data": {
      "text/html": [
       "<div>\n",
       "<style scoped>\n",
       "    .dataframe tbody tr th:only-of-type {\n",
       "        vertical-align: middle;\n",
       "    }\n",
       "\n",
       "    .dataframe tbody tr th {\n",
       "        vertical-align: top;\n",
       "    }\n",
       "\n",
       "    .dataframe thead th {\n",
       "        text-align: right;\n",
       "    }\n",
       "</style>\n",
       "<table border=\"1\" class=\"dataframe\">\n",
       "  <thead>\n",
       "    <tr style=\"text-align: right;\">\n",
       "      <th>State</th>\n",
       "      <th>Acre</th>\n",
       "      <th>Alagoas</th>\n",
       "      <th>Amapá</th>\n",
       "      <th>Amazonas</th>\n",
       "      <th>Bahia</th>\n",
       "      <th>Ceará</th>\n",
       "      <th>Distrito Federal</th>\n",
       "      <th>Espírito Santo</th>\n",
       "      <th>Goiás</th>\n",
       "      <th>Maranhão</th>\n",
       "      <th>...</th>\n",
       "      <th>Piauí</th>\n",
       "      <th>Rio Grande do Norte</th>\n",
       "      <th>Rio Grande do Sul</th>\n",
       "      <th>Rio de January</th>\n",
       "      <th>Rondônia</th>\n",
       "      <th>Roraima</th>\n",
       "      <th>Santa Catarina</th>\n",
       "      <th>Sergipe</th>\n",
       "      <th>São Paulo</th>\n",
       "      <th>Tocantins</th>\n",
       "    </tr>\n",
       "    <tr>\n",
       "      <th>Month</th>\n",
       "      <th></th>\n",
       "      <th></th>\n",
       "      <th></th>\n",
       "      <th></th>\n",
       "      <th></th>\n",
       "      <th></th>\n",
       "      <th></th>\n",
       "      <th></th>\n",
       "      <th></th>\n",
       "      <th></th>\n",
       "      <th></th>\n",
       "      <th></th>\n",
       "      <th></th>\n",
       "      <th></th>\n",
       "      <th></th>\n",
       "      <th></th>\n",
       "      <th></th>\n",
       "      <th></th>\n",
       "      <th></th>\n",
       "      <th></th>\n",
       "      <th></th>\n",
       "    </tr>\n",
       "  </thead>\n",
       "  <tbody>\n",
       "    <tr>\n",
       "      <th>January</th>\n",
       "      <td>40.0</td>\n",
       "      <td>857.0</td>\n",
       "      <td>277.0</td>\n",
       "      <td>1466.0</td>\n",
       "      <td>3658.0</td>\n",
       "      <td>3029.0</td>\n",
       "      <td>7.0</td>\n",
       "      <td>275.0</td>\n",
       "      <td>684.0</td>\n",
       "      <td>4366.0</td>\n",
       "      <td>...</td>\n",
       "      <td>1261.0</td>\n",
       "      <td>923.0</td>\n",
       "      <td>1246.0</td>\n",
       "      <td>207.0</td>\n",
       "      <td>431.0</td>\n",
       "      <td>3874.754</td>\n",
       "      <td>464.0</td>\n",
       "      <td>797.0</td>\n",
       "      <td>844.0</td>\n",
       "      <td>914.0</td>\n",
       "    </tr>\n",
       "    <tr>\n",
       "      <th>February</th>\n",
       "      <td>18.0</td>\n",
       "      <td>482.0</td>\n",
       "      <td>20.0</td>\n",
       "      <td>995.0</td>\n",
       "      <td>3185.0</td>\n",
       "      <td>393.0</td>\n",
       "      <td>13.0</td>\n",
       "      <td>319.0</td>\n",
       "      <td>1061.0</td>\n",
       "      <td>975.0</td>\n",
       "      <td>...</td>\n",
       "      <td>630.0</td>\n",
       "      <td>234.0</td>\n",
       "      <td>616.0</td>\n",
       "      <td>356.0</td>\n",
       "      <td>257.0</td>\n",
       "      <td>5289.000</td>\n",
       "      <td>302.0</td>\n",
       "      <td>532.0</td>\n",
       "      <td>1397.0</td>\n",
       "      <td>807.0</td>\n",
       "    </tr>\n",
       "    <tr>\n",
       "      <th>March</th>\n",
       "      <td>23.0</td>\n",
       "      <td>531.0</td>\n",
       "      <td>16.0</td>\n",
       "      <td>683.0</td>\n",
       "      <td>3240.0</td>\n",
       "      <td>178.0</td>\n",
       "      <td>6.0</td>\n",
       "      <td>291.0</td>\n",
       "      <td>806.0</td>\n",
       "      <td>593.0</td>\n",
       "      <td>...</td>\n",
       "      <td>531.0</td>\n",
       "      <td>104.0</td>\n",
       "      <td>960.0</td>\n",
       "      <td>200.0</td>\n",
       "      <td>216.0</td>\n",
       "      <td>4657.320</td>\n",
       "      <td>576.0</td>\n",
       "      <td>610.0</td>\n",
       "      <td>1404.0</td>\n",
       "      <td>814.0</td>\n",
       "    </tr>\n",
       "    <tr>\n",
       "      <th>April</th>\n",
       "      <td>40.0</td>\n",
       "      <td>238.0</td>\n",
       "      <td>10.0</td>\n",
       "      <td>172.0</td>\n",
       "      <td>2416.0</td>\n",
       "      <td>70.0</td>\n",
       "      <td>24.0</td>\n",
       "      <td>259.0</td>\n",
       "      <td>1129.0</td>\n",
       "      <td>894.0</td>\n",
       "      <td>...</td>\n",
       "      <td>546.0</td>\n",
       "      <td>82.0</td>\n",
       "      <td>950.0</td>\n",
       "      <td>185.0</td>\n",
       "      <td>185.0</td>\n",
       "      <td>2259.000</td>\n",
       "      <td>551.0</td>\n",
       "      <td>243.0</td>\n",
       "      <td>1908.0</td>\n",
       "      <td>1835.0</td>\n",
       "    </tr>\n",
       "    <tr>\n",
       "      <th>May</th>\n",
       "      <td>71.0</td>\n",
       "      <td>55.0</td>\n",
       "      <td>12.0</td>\n",
       "      <td>179.0</td>\n",
       "      <td>2523.0</td>\n",
       "      <td>161.0</td>\n",
       "      <td>90.0</td>\n",
       "      <td>169.0</td>\n",
       "      <td>2263.0</td>\n",
       "      <td>1805.0</td>\n",
       "      <td>...</td>\n",
       "      <td>1290.0</td>\n",
       "      <td>99.0</td>\n",
       "      <td>722.0</td>\n",
       "      <td>203.0</td>\n",
       "      <td>328.0</td>\n",
       "      <td>367.000</td>\n",
       "      <td>463.0</td>\n",
       "      <td>49.0</td>\n",
       "      <td>2881.0</td>\n",
       "      <td>5100.0</td>\n",
       "    </tr>\n",
       "  </tbody>\n",
       "</table>\n",
       "<p>5 rows × 27 columns</p>\n",
       "</div>"
      ],
      "text/plain": [
       "State     Acre  Alagoas  Amapá  Amazonas   Bahia   Ceará  Distrito Federal  \\\n",
       "Month                                                                        \n",
       "January   40.0    857.0  277.0    1466.0  3658.0  3029.0               7.0   \n",
       "February  18.0    482.0   20.0     995.0  3185.0   393.0              13.0   \n",
       "March     23.0    531.0   16.0     683.0  3240.0   178.0               6.0   \n",
       "April     40.0    238.0   10.0     172.0  2416.0    70.0              24.0   \n",
       "May       71.0     55.0   12.0     179.0  2523.0   161.0              90.0   \n",
       "\n",
       "State     Espírito Santo   Goiás  Maranhão  ...   Piauí  Rio Grande do Norte  \\\n",
       "Month                                       ...                                \n",
       "January            275.0   684.0    4366.0  ...  1261.0                923.0   \n",
       "February           319.0  1061.0     975.0  ...   630.0                234.0   \n",
       "March              291.0   806.0     593.0  ...   531.0                104.0   \n",
       "April              259.0  1129.0     894.0  ...   546.0                 82.0   \n",
       "May                169.0  2263.0    1805.0  ...  1290.0                 99.0   \n",
       "\n",
       "State     Rio Grande do Sul  Rio de January  Rondônia   Roraima  \\\n",
       "Month                                                             \n",
       "January              1246.0           207.0     431.0  3874.754   \n",
       "February              616.0           356.0     257.0  5289.000   \n",
       "March                 960.0           200.0     216.0  4657.320   \n",
       "April                 950.0           185.0     185.0  2259.000   \n",
       "May                   722.0           203.0     328.0   367.000   \n",
       "\n",
       "State     Santa Catarina  Sergipe  São Paulo  Tocantins  \n",
       "Month                                                    \n",
       "January            464.0    797.0      844.0      914.0  \n",
       "February           302.0    532.0     1397.0      807.0  \n",
       "March              576.0    610.0     1404.0      814.0  \n",
       "April              551.0    243.0     1908.0     1835.0  \n",
       "May                463.0     49.0     2881.0     5100.0  \n",
       "\n",
       "[5 rows x 27 columns]"
      ]
     },
     "execution_count": 156,
     "metadata": {},
     "output_type": "execute_result"
    }
   ],
   "source": [
    "#creating a dataframe of the total number of fires across months and states\n",
    "state_month = data['Number of Fires'].groupby([data['Month'], data['State']]).sum()\n",
    "state_month = state_month.unstack().reindex(month_grouped.index)\n",
    "state_month.head()"
   ]
  },
  {
   "cell_type": "code",
   "execution_count": 157,
   "id": "ca424592",
   "metadata": {},
   "outputs": [
    {
     "data": {
      "text/plain": [
       "<seaborn.matrix.ClusterGrid at 0x1863729aa00>"
      ]
     },
     "execution_count": 157,
     "metadata": {},
     "output_type": "execute_result"
    },
    {
     "data": {
      "image/png": "[encoded data removed]",
      "text/plain": [
       "<Figure size 720x720 with 4 Axes>"
      ]
     },
     "metadata": {},
     "output_type": "display_data"
    }
   ],
   "source": [
    "sns.clustermap(data = state_month, cmap = 'coolwarm')"
   ]
  },
  {
   "cell_type": "markdown",
   "id": "c1b4559e",
   "metadata": {},
   "source": [
    "* Roraima (3rd in the cluster) and the next 8 states after it generally have a relatively low number of fires throughout the year\n",
    "* States with more fire occurrences have those in the second half of the year as earlier observed. Mato Grosso however tends to deviate from this trend; having more fire occurences early in the year."
   ]
  },
  {
   "cell_type": "markdown",
   "id": "dcd5527e",
   "metadata": {},
   "source": [
    "<font size=\"5\">Choropleth map</font>"
   ]
  },
  {
   "cell_type": "markdown",
   "id": "f2ce71d4",
   "metadata": {},
   "source": [
    "The shapefiles used in drawing the chloropleth map can be found __[here on kaggle](https://www.kaggle.com/datasets/rodsaldanha/brazilianstatesshapefiles)__ <br>\n",
    "\n",
    "**NOTE**: All other files associated with the .shp file should in thesame directory as the .shp file, prefarably thesame directory from which you are running the notebook. "
   ]
  },
  {
   "cell_type": "code",
   "execution_count": 158,
   "id": "e3b24d1a",
   "metadata": {},
   "outputs": [],
   "source": [
    "states_geo = gpd.read_file(\"BRA_adm1.shp\")"
   ]
  },
  {
   "cell_type": "code",
   "execution_count": 159,
   "id": "9b6f0c9d",
   "metadata": {},
   "outputs": [
    {
     "data": {
      "text/plain": [
       "(27, 13)"
      ]
     },
     "execution_count": 159,
     "metadata": {},
     "output_type": "execute_result"
    }
   ],
   "source": [
    "states_geo.shape"
   ]
  },
  {
   "cell_type": "code",
   "execution_count": 160,
   "id": "bb84e319",
   "metadata": {},
   "outputs": [
    {
     "data": {
      "text/html": [
       "<div>\n",
       "<style scoped>\n",
       "    .dataframe tbody tr th:only-of-type {\n",
       "        vertical-align: middle;\n",
       "    }\n",
       "\n",
       "    .dataframe tbody tr th {\n",
       "        vertical-align: top;\n",
       "    }\n",
       "\n",
       "    .dataframe thead th {\n",
       "        text-align: right;\n",
       "    }\n",
       "</style>\n",
       "<table border=\"1\" class=\"dataframe\">\n",
       "  <thead>\n",
       "    <tr style=\"text-align: right;\">\n",
       "      <th></th>\n",
       "      <th>ID_0</th>\n",
       "      <th>ISO</th>\n",
       "      <th>NAME_0</th>\n",
       "      <th>ID_1</th>\n",
       "      <th>NAME_1</th>\n",
       "      <th>HASC_1</th>\n",
       "      <th>CCN_1</th>\n",
       "      <th>CCA_1</th>\n",
       "      <th>TYPE_1</th>\n",
       "      <th>ENGTYPE_1</th>\n",
       "      <th>NL_NAME_1</th>\n",
       "      <th>VARNAME_1</th>\n",
       "      <th>geometry</th>\n",
       "    </tr>\n",
       "  </thead>\n",
       "  <tbody>\n",
       "    <tr>\n",
       "      <th>0</th>\n",
       "      <td>33</td>\n",
       "      <td>BRA</td>\n",
       "      <td>Brazil</td>\n",
       "      <td>1</td>\n",
       "      <td>Acre</td>\n",
       "      <td>BR.AC</td>\n",
       "      <td>0</td>\n",
       "      <td>None</td>\n",
       "      <td>Estado</td>\n",
       "      <td>State</td>\n",
       "      <td>None</td>\n",
       "      <td>None</td>\n",
       "      <td>POLYGON ((-73.33251 -7.32488, -73.27482 -7.350...</td>\n",
       "    </tr>\n",
       "    <tr>\n",
       "      <th>1</th>\n",
       "      <td>33</td>\n",
       "      <td>BRA</td>\n",
       "      <td>Brazil</td>\n",
       "      <td>2</td>\n",
       "      <td>Alagoas</td>\n",
       "      <td>BR.AL</td>\n",
       "      <td>0</td>\n",
       "      <td>None</td>\n",
       "      <td>Estado</td>\n",
       "      <td>State</td>\n",
       "      <td>None</td>\n",
       "      <td>None</td>\n",
       "      <td>MULTIPOLYGON (((-35.90153 -9.86180, -35.90153 ...</td>\n",
       "    </tr>\n",
       "    <tr>\n",
       "      <th>2</th>\n",
       "      <td>33</td>\n",
       "      <td>BRA</td>\n",
       "      <td>Brazil</td>\n",
       "      <td>3</td>\n",
       "      <td>Amapá</td>\n",
       "      <td>BR.AP</td>\n",
       "      <td>0</td>\n",
       "      <td>None</td>\n",
       "      <td>Estado</td>\n",
       "      <td>State</td>\n",
       "      <td>None</td>\n",
       "      <td>None</td>\n",
       "      <td>MULTIPOLYGON (((-50.02403 0.85986, -50.02403 0...</td>\n",
       "    </tr>\n",
       "    <tr>\n",
       "      <th>3</th>\n",
       "      <td>33</td>\n",
       "      <td>BRA</td>\n",
       "      <td>Brazil</td>\n",
       "      <td>4</td>\n",
       "      <td>Amazonas</td>\n",
       "      <td>BR.AM</td>\n",
       "      <td>0</td>\n",
       "      <td>None</td>\n",
       "      <td>Estado</td>\n",
       "      <td>State</td>\n",
       "      <td>None</td>\n",
       "      <td>Amazone</td>\n",
       "      <td>POLYGON ((-67.32623 2.02968, -67.30118 1.92997...</td>\n",
       "    </tr>\n",
       "    <tr>\n",
       "      <th>4</th>\n",
       "      <td>33</td>\n",
       "      <td>BRA</td>\n",
       "      <td>Brazil</td>\n",
       "      <td>5</td>\n",
       "      <td>Bahia</td>\n",
       "      <td>BR.BA</td>\n",
       "      <td>0</td>\n",
       "      <td>None</td>\n",
       "      <td>Estado</td>\n",
       "      <td>State</td>\n",
       "      <td>None</td>\n",
       "      <td>Ba¡a</td>\n",
       "      <td>MULTIPOLYGON (((-38.69708 -17.97903, -38.69708...</td>\n",
       "    </tr>\n",
       "  </tbody>\n",
       "</table>\n",
       "</div>"
      ],
      "text/plain": [
       "   ID_0  ISO  NAME_0  ID_1    NAME_1 HASC_1  CCN_1 CCA_1  TYPE_1 ENGTYPE_1  \\\n",
       "0    33  BRA  Brazil     1      Acre  BR.AC      0  None  Estado     State   \n",
       "1    33  BRA  Brazil     2   Alagoas  BR.AL      0  None  Estado     State   \n",
       "2    33  BRA  Brazil     3     Amapá  BR.AP      0  None  Estado     State   \n",
       "3    33  BRA  Brazil     4  Amazonas  BR.AM      0  None  Estado     State   \n",
       "4    33  BRA  Brazil     5     Bahia  BR.BA      0  None  Estado     State   \n",
       "\n",
       "  NL_NAME_1 VARNAME_1                                           geometry  \n",
       "0      None      None  POLYGON ((-73.33251 -7.32488, -73.27482 -7.350...  \n",
       "1      None      None  MULTIPOLYGON (((-35.90153 -9.86180, -35.90153 ...  \n",
       "2      None      None  MULTIPOLYGON (((-50.02403 0.85986, -50.02403 0...  \n",
       "3      None   Amazone  POLYGON ((-67.32623 2.02968, -67.30118 1.92997...  \n",
       "4      None      Ba¡a  MULTIPOLYGON (((-38.69708 -17.97903, -38.69708...  "
      ]
     },
     "execution_count": 160,
     "metadata": {},
     "output_type": "execute_result"
    }
   ],
   "source": [
    "states_geo.head()"
   ]
  },
  {
   "cell_type": "markdown",
   "id": "e1e03882",
   "metadata": {},
   "source": [
    " In order to add \"Number of fires\" to our geopandas dataframe, we will merge **states_geo** and **state_grouped**.\n",
    " Remember state_grouped is a series containing the total number of fires indexed by states <br>\n",
    " We will merge based on the **NAME_1** column in states_geo and the **index** of state_grouped"
   ]
  },
  {
   "cell_type": "code",
   "execution_count": 161,
   "id": "d1a0d4b6",
   "metadata": {},
   "outputs": [
    {
     "data": {
      "text/plain": [
       "State\n",
       "Distrito Federal       3151.0\n",
       "Sergipe                3162.0\n",
       "Alagoas                4485.0\n",
       "Espírito Santo         6312.0\n",
       "Rio Grande do Norte    9127.0\n",
       "Name: Number of Fires, dtype: float64"
      ]
     },
     "execution_count": 161,
     "metadata": {},
     "output_type": "execute_result"
    }
   ],
   "source": [
    "state_grouped.head()"
   ]
  },
  {
   "cell_type": "markdown",
   "id": "663d6dc1",
   "metadata": {},
   "source": [
    "Before merging, let us make sure the names of the states in states_geo and state_grouped are exactly thesame, in order to avoid loss of data"
   ]
  },
  {
   "cell_type": "code",
   "execution_count": 162,
   "id": "9ecc3491",
   "metadata": {},
   "outputs": [
    {
     "data": {
      "text/plain": [
       "False"
      ]
     },
     "execution_count": 162,
     "metadata": {},
     "output_type": "execute_result"
    }
   ],
   "source": [
    "set(states_geo.NAME_1) == set(state_grouped.index)"
   ]
  },
  {
   "cell_type": "code",
   "execution_count": 163,
   "id": "ef553cc8",
   "metadata": {},
   "outputs": [
    {
     "data": {
      "text/plain": [
       "{'Rio de Janeiro'}"
      ]
     },
     "execution_count": 163,
     "metadata": {},
     "output_type": "execute_result"
    }
   ],
   "source": [
    "#Rio de Janeiro seems to be differently spelt in the two columns\n",
    "\n",
    "set(states_geo.NAME_1) - set(state_grouped.index)"
   ]
  },
  {
   "cell_type": "code",
   "execution_count": 164,
   "id": "61548837",
   "metadata": {},
   "outputs": [
    {
     "data": {
      "text/plain": [
       "array(['Acre', 'Alagoas', 'Amapá', 'Amazonas', 'Bahia', 'Ceará',\n",
       "       'Distrito Federal', 'Espírito Santo', 'Goiás', 'Maranhão',\n",
       "       'Mato Grosso do Sul', 'Mato Grosso', 'Minas Gerais', 'Pará',\n",
       "       'Paraíba', 'Paraná', 'Pernambuco', 'Piauí', 'Rio de Janeiro',\n",
       "       'Rio Grande do Norte', 'Rio Grande do Sul', 'Rondônia', 'Roraima',\n",
       "       'São Paulo', 'Santa Catarina', 'Sergipe', 'Tocantins'],\n",
       "      dtype=object)"
      ]
     },
     "execution_count": 164,
     "metadata": {},
     "output_type": "execute_result"
    }
   ],
   "source": [
    "states_geo.NAME_1.values"
   ]
  },
  {
   "cell_type": "code",
   "execution_count": 165,
   "id": "4e9ee95c",
   "metadata": {},
   "outputs": [
    {
     "data": {
      "text/plain": [
       "Index(['Distrito Federal', 'Sergipe', 'Alagoas', 'Espírito Santo',\n",
       "       'Rio Grande do Norte', 'Rio de January', 'Paraíba', 'Acre', 'Rondônia',\n",
       "       'Amapá', 'Rio Grande do Sul', 'Santa Catarina', 'Roraima', 'Pará',\n",
       "       'Maranhão', 'Pernambuco', 'Ceará', 'Amazonas', 'Tocantins',\n",
       "       'Minas Gerais', 'Goiás', 'Piauí', 'Paraná', 'Bahia', 'Mato Grosso',\n",
       "       'Mato Grosso do Sul', 'São Paulo'],\n",
       "      dtype='object', name='State')"
      ]
     },
     "execution_count": 165,
     "metadata": {},
     "output_type": "execute_result"
    }
   ],
   "source": [
    "state_grouped.index"
   ]
  },
  {
   "cell_type": "code",
   "execution_count": 166,
   "id": "8af610f6",
   "metadata": {},
   "outputs": [],
   "source": [
    "#Rio de Janeiro is spelt \"Rio de January\" in state_grouped\n",
    "\n",
    "#make a dataframe from state_grouped and make its index a column of that df\n",
    "state_grouped = state_grouped.to_frame().reset_index() \n",
    "\n",
    "#replace with the correct spelling\n",
    "state_grouped[\"State\"] = state_grouped[\"State\"].replace(\"Rio de January\", \"Rio de Janeiro\")"
   ]
  },
  {
   "cell_type": "code",
   "execution_count": 167,
   "id": "db248e68",
   "metadata": {},
   "outputs": [
    {
     "data": {
      "text/plain": [
       "True"
      ]
     },
     "execution_count": 167,
     "metadata": {},
     "output_type": "execute_result"
    }
   ],
   "source": [
    "set(states_geo.NAME_1) == set(state_grouped.State)"
   ]
  },
  {
   "cell_type": "code",
   "execution_count": 168,
   "id": "cb0112f4",
   "metadata": {},
   "outputs": [],
   "source": [
    "#now we can merge\n",
    "\n",
    "states_geo = pd.merge(states_geo, state_grouped, left_on = \"NAME_1\", right_on = \"State\")"
   ]
  },
  {
   "cell_type": "code",
   "execution_count": 169,
   "id": "d213a55e",
   "metadata": {},
   "outputs": [],
   "source": [
    "states_geo.drop(\"State\", axis = 1, inplace = True)"
   ]
  },
  {
   "cell_type": "code",
   "execution_count": 170,
   "id": "777454e4",
   "metadata": {},
   "outputs": [
    {
     "data": {
      "text/plain": [
       "Index(['ID_0', 'ISO', 'NAME_0', 'ID_1', 'NAME_1', 'HASC_1', 'CCN_1', 'CCA_1',\n",
       "       'TYPE_1', 'ENGTYPE_1', 'NL_NAME_1', 'VARNAME_1', 'geometry',\n",
       "       'Number of Fires'],\n",
       "      dtype='object')"
      ]
     },
     "execution_count": 170,
     "metadata": {},
     "output_type": "execute_result"
    }
   ],
   "source": [
    "#Number of fires has been added to the geopandas dataframe\n",
    "\n",
    "states_geo.columns"
   ]
  },
  {
   "cell_type": "code",
   "execution_count": 171,
   "id": "c8d6d43e",
   "metadata": {},
   "outputs": [],
   "source": [
    "# We find the center points, copy our original df to a new df, and then set \n",
    "# the geometry column to the newly created center points column \n",
    "# we do this because a GeoPandas df can only have one geometry column\n",
    "\n",
    "\n",
    "states_geo['center'] = states_geo[\"geometry\"].centroid\n",
    "states_geo_points = states_geo.copy()\n",
    "states_geo_points.set_geometry(\"center\", inplace = True)"
   ]
  },
  {
   "cell_type": "code",
   "execution_count": 172,
   "id": "c7f7b3b4",
   "metadata": {},
   "outputs": [
    {
     "data": {
      "image/png": "[encoded data removed]",
      "text/plain": [
       "<Figure size 800x800 with 2 Axes>"
      ]
     },
     "metadata": {},
     "output_type": "display_data"
    }
   ],
   "source": [
    "plt.rcParams.update({\"font.size\": 5})\n",
    "\n",
    "fig, ax = plt.subplots(figsize=(4, 4), dpi=200)\n",
    "\n",
    "states_geo.plot(column=\"Number of Fires\", cmap=\"coolwarm\", legend=True,\n",
    "    legend_kwds={\"label\": \"Number of Fires\", \"orientation\": \"vertical\", \"shrink\": 0.6,},\n",
    "    ax=ax)\n",
    "\n",
    "ax.set_title(\"Total Number of Fires in Brazil states from 1998 to 2016\")\n",
    "ax.axis('off')\n",
    "\n",
    "#using the x, y cordinates of the center points we had calculated, we label the states\n",
    "for x, y, label in zip(states_geo_points.geometry.x, states_geo_points.geometry.y, states_geo_points[\"NAME_1\"]):\n",
    "    plt.text(x, y, label, fontsize = 4)"
   ]
  },
  {
   "cell_type": "markdown",
   "id": "bdbf8db4",
   "metadata": {},
   "source": [
    "The choropleth map above lends more clarity to the patterns we previously observed in the cluster map. \n",
    ">* From this map, we see that the states with more fire occurrences cluster together around the mid region of the country. This suggests that geographical location tends to be an important factor in play here. Further digging will most likely reveal interesting features that states in this region have in common which predisposes them to wildfires, and probably how these features are depressed or absent in the states outside this region. These features may be meterological and even socioeconomical."
   ]
  },
  {
   "cell_type": "markdown",
   "id": "0182d5cf",
   "metadata": {},
   "source": [
    "### PART 3:  AN INTEREST IN FIRE OCCURRENCES IN THE MOST RECENT YEAR, 2017 THAT IS."
   ]
  },
  {
   "cell_type": "code",
   "execution_count": 173,
   "id": "6029e617",
   "metadata": {},
   "outputs": [],
   "source": [
    "#we do these again because both data and data_17 have changed\n",
    "#in the course of our initial analysis\n",
    "\n",
    "data = pd.read_csv('Brazilian-fire-dataset.csv')\n",
    "data = data.drop_duplicates(keep = \"first\")\n",
    "data_17 = data[data['Year'] == 2017]"
   ]
  },
  {
   "cell_type": "code",
   "execution_count": 174,
   "id": "be0f9ec4",
   "metadata": {},
   "outputs": [
    {
     "data": {
      "text/plain": [
       "(297, 5)"
      ]
     },
     "execution_count": 174,
     "metadata": {},
     "output_type": "execute_result"
    }
   ],
   "source": [
    "data_17.shape"
   ]
  },
  {
   "cell_type": "code",
   "execution_count": 175,
   "id": "1a49255a",
   "metadata": {},
   "outputs": [
    {
     "data": {
      "text/plain": [
       "297"
      ]
     },
     "execution_count": 175,
     "metadata": {},
     "output_type": "execute_result"
    }
   ],
   "source": [
    "#just making sure. notice that we used 11 months and 27 states\n",
    "#remember 2017 lacked data for December, hence 11 months\n",
    "\n",
    "27 * 11"
   ]
  },
  {
   "cell_type": "code",
   "execution_count": 176,
   "id": "752e0e26",
   "metadata": {},
   "outputs": [],
   "source": [
    "#group fires in 2017 by months\n",
    "\n",
    "months_17 = data_17['Number of Fires'].groupby(data_17['Month'])\n",
    "\n",
    "months_17 = months_17.sum().reindex(['January', 'February', 'March', 'April', \n",
    "                                             'May', 'June', 'July', 'August', 'September',\n",
    "                                              'October', 'November', 'December'])"
   ]
  },
  {
   "cell_type": "code",
   "execution_count": 177,
   "id": "069a5db6",
   "metadata": {},
   "outputs": [
    {
     "data": {
      "text/plain": [
       "Month\n",
       "January      2370.000\n",
       "February     1400.000\n",
       "March        2017.000\n",
       "April        1559.000\n",
       "May          2506.000\n",
       "June         4148.361\n",
       "July         5929.998\n",
       "August       4120.410\n",
       "September    2779.317\n",
       "October      3600.159\n",
       "November     6217.379\n",
       "December          NaN\n",
       "Name: Number of Fires, dtype: float64"
      ]
     },
     "execution_count": 177,
     "metadata": {},
     "output_type": "execute_result"
    }
   ],
   "source": [
    "#Recall that we removed 2017 from the initial analysis\n",
    "#because data on December was missing in all the states\n",
    "\n",
    "#Since we'll be observing the total number of fires,\n",
    "#we can estimate this value for 2017 and fill it in\n",
    "\n",
    "months_17"
   ]
  },
  {
   "cell_type": "code",
   "execution_count": 178,
   "id": "984ba1d6",
   "metadata": {},
   "outputs": [
    {
     "data": {
      "text/plain": [
       "Year\n",
       "1998    2043.407\n",
       "1999    2267.111\n",
       "2000    1309.159\n",
       "2001    2344.860\n",
       "2002    3725.227\n",
       "Name: Number of Fires, dtype: float64"
      ]
     },
     "execution_count": 178,
     "metadata": {},
     "output_type": "execute_result"
    }
   ],
   "source": [
    "#extract data on all Decembers from 1998 to 2016\n",
    "dec = data[data[\"Month\"] == \"December\"]\n",
    "\n",
    "#group the number of fires by year and take the sum\n",
    "dec = dec[\"Number of Fires\"].groupby(dec[\"Year\"]).sum()\n",
    "\n",
    "dec.head()"
   ]
  },
  {
   "cell_type": "code",
   "execution_count": 179,
   "id": "247a1a59",
   "metadata": {},
   "outputs": [],
   "source": [
    "#We fill in the mean total number of fires in December from 1998 to 2016.\n",
    "#We do this in order to be conservative, since we don't have too much information\n",
    "\n",
    "\n",
    "months_17['December'] = np.mean(dec)"
   ]
  },
  {
   "cell_type": "code",
   "execution_count": 180,
   "id": "4e958fb6",
   "metadata": {},
   "outputs": [
    {
     "data": {
      "text/plain": [
       "3028.183157894737"
      ]
     },
     "execution_count": 180,
     "metadata": {},
     "output_type": "execute_result"
    }
   ],
   "source": [
    "months_17['December']"
   ]
  },
  {
   "cell_type": "code",
   "execution_count": 181,
   "id": "da7de847",
   "metadata": {},
   "outputs": [
    {
     "data": {
      "image/png": "[encoded data removed]",
      "text/plain": [
       "<Figure size 1080x576 with 1 Axes>"
      ]
     },
     "metadata": {},
     "output_type": "display_data"
    }
   ],
   "source": [
    "fig, ax = plt.subplots(figsize = (15, 8))\n",
    "\n",
    "sns.set(style = 'whitegrid', color_codes = True)\n",
    "palette = sns.color_palette(\"Greens_r\", len(months_17))\n",
    "rank = months_17.argsort().argsort()\n",
    "\n",
    "sns.barplot(x = months_17.index, y = months_17, palette = np.array(palette[::-1])[rank])\n",
    "\n",
    "ax.set(ylabel = \"Total Number of Fires\")\n",
    "plt.title(\"Total Number of Fires in Brazil by Months, in 2017\")\n",
    "plt.show()"
   ]
  },
  {
   "cell_type": "markdown",
   "id": "e346b482",
   "metadata": {},
   "source": [
    "* The trend is very similar to what was observed when in the sum from 1998 to 2016; there were more fire occurences in the second half of the year\n"
   ]
  },
  {
   "cell_type": "code",
   "execution_count": 182,
   "id": "e5f07d85",
   "metadata": {},
   "outputs": [],
   "source": [
    "states_17 = data_17['Number of Fires'].groupby(data_17[\"State\"])\n",
    "states_17 = pd.Series(states_17.sum()).sort_values()"
   ]
  },
  {
   "cell_type": "code",
   "execution_count": 183,
   "id": "3180827e",
   "metadata": {},
   "outputs": [
    {
     "data": {
      "image/png": "[encoded data removed]",
      "text/plain": [
       "<Figure size 1080x576 with 1 Axes>"
      ]
     },
     "metadata": {},
     "output_type": "display_data"
    }
   ],
   "source": [
    "fig, ax = plt.subplots(figsize = (15, 8))\n",
    "\n",
    "sns.set(style = 'whitegrid', color_codes = True)\n",
    "palette = sns.color_palette(\"Blues_r\", len(states_17))\n",
    "rank = states_17.argsort().argsort()\n",
    "\n",
    "sns.barplot(x = states_17.index, y = states_17, palette = np.array(palette[::-1])[rank])\n",
    "\n",
    "ax.set(ylabel = \"Total Number of Fires\")\n",
    "plt.xticks(rotation = 60)\n",
    "plt.title(\"Total Number of Fires in Brazil by States, in 2017\")\n",
    "plt.show()"
   ]
  },
  {
   "cell_type": "markdown",
   "id": "9b081390",
   "metadata": {},
   "source": [
    "* Comparing with the barplot for states earlier, we see that there is a difference in the total number of fires for almost all the states. For example, Mato Grosso as the state with the highest number of fires in 2017, had the 3rd highest number of fires from 1998 to 2017. \n",
    "* However, looking closely, the differences are not too much. States with lower number of fires over the past 19 years still have relatively lower number of fires in 2017. We shall verify this when we draw a choropleth map for 2017."
   ]
  },
  {
   "cell_type": "code",
   "execution_count": 184,
   "id": "f179dc9b",
   "metadata": {},
   "outputs": [],
   "source": [
    "#CHOROPLETH MAP\n",
    "\n",
    "#make a dataframe from states_17 and make its index a column of that df\n",
    "states_17 = states_17.to_frame().reset_index() \n",
    "\n",
    "#replace with the correct spelling as we did earlier,\n",
    "#to make for accurate merging witht the geopandas df\n",
    "states_17[\"State\"] = states_17[\"State\"].replace(\"Rio de January\", \"Rio de Janeiro\")"
   ]
  },
  {
   "cell_type": "code",
   "execution_count": 185,
   "id": "6d9f7825",
   "metadata": {},
   "outputs": [
    {
     "data": {
      "text/plain": [
       "True"
      ]
     },
     "execution_count": 185,
     "metadata": {},
     "output_type": "execute_result"
    }
   ],
   "source": [
    "set(states_geo.NAME_1) == set(states_17.State)"
   ]
  },
  {
   "cell_type": "code",
   "execution_count": 186,
   "id": "d882eec5",
   "metadata": {},
   "outputs": [],
   "source": [
    "#drop the former number of fires (1998 to 2016)\n",
    "states_geo.drop(\"Number of Fires\", axis = 1, inplace = True) \n"
   ]
  },
  {
   "cell_type": "code",
   "execution_count": 187,
   "id": "3a31d125",
   "metadata": {},
   "outputs": [],
   "source": [
    "#add the total number of fires by state in 2017\n",
    "states_geo = pd.merge(states_geo, states_17, left_on = \"NAME_1\", right_on = \"State\")\n",
    "\n",
    "states_geo.drop(\"State\", axis = 1, inplace = True)\n"
   ]
  },
  {
   "cell_type": "code",
   "execution_count": 188,
   "id": "d8440396",
   "metadata": {},
   "outputs": [
    {
     "data": {
      "text/html": [
       "<div>\n",
       "<style scoped>\n",
       "    .dataframe tbody tr th:only-of-type {\n",
       "        vertical-align: middle;\n",
       "    }\n",
       "\n",
       "    .dataframe tbody tr th {\n",
       "        vertical-align: top;\n",
       "    }\n",
       "\n",
       "    .dataframe thead th {\n",
       "        text-align: right;\n",
       "    }\n",
       "</style>\n",
       "<table border=\"1\" class=\"dataframe\">\n",
       "  <thead>\n",
       "    <tr style=\"text-align: right;\">\n",
       "      <th></th>\n",
       "      <th>ID_0</th>\n",
       "      <th>ISO</th>\n",
       "      <th>NAME_0</th>\n",
       "      <th>ID_1</th>\n",
       "      <th>NAME_1</th>\n",
       "      <th>HASC_1</th>\n",
       "      <th>CCN_1</th>\n",
       "      <th>CCA_1</th>\n",
       "      <th>TYPE_1</th>\n",
       "      <th>ENGTYPE_1</th>\n",
       "      <th>NL_NAME_1</th>\n",
       "      <th>VARNAME_1</th>\n",
       "      <th>geometry</th>\n",
       "      <th>center</th>\n",
       "      <th>Number of Fires</th>\n",
       "    </tr>\n",
       "  </thead>\n",
       "  <tbody>\n",
       "    <tr>\n",
       "      <th>0</th>\n",
       "      <td>33</td>\n",
       "      <td>BRA</td>\n",
       "      <td>Brazil</td>\n",
       "      <td>1</td>\n",
       "      <td>Acre</td>\n",
       "      <td>BR.AC</td>\n",
       "      <td>0</td>\n",
       "      <td>None</td>\n",
       "      <td>Estado</td>\n",
       "      <td>State</td>\n",
       "      <td>None</td>\n",
       "      <td>None</td>\n",
       "      <td>POLYGON ((-73.33251 -7.32488, -73.27482 -7.350...</td>\n",
       "      <td>POINT (-70.44667 -9.30992)</td>\n",
       "      <td>618.430</td>\n",
       "    </tr>\n",
       "    <tr>\n",
       "      <th>1</th>\n",
       "      <td>33</td>\n",
       "      <td>BRA</td>\n",
       "      <td>Brazil</td>\n",
       "      <td>2</td>\n",
       "      <td>Alagoas</td>\n",
       "      <td>BR.AL</td>\n",
       "      <td>0</td>\n",
       "      <td>None</td>\n",
       "      <td>Estado</td>\n",
       "      <td>State</td>\n",
       "      <td>None</td>\n",
       "      <td>None</td>\n",
       "      <td>MULTIPOLYGON (((-35.90153 -9.86180, -35.90153 ...</td>\n",
       "      <td>POINT (-36.62320 -9.51555)</td>\n",
       "      <td>121.000</td>\n",
       "    </tr>\n",
       "    <tr>\n",
       "      <th>2</th>\n",
       "      <td>33</td>\n",
       "      <td>BRA</td>\n",
       "      <td>Brazil</td>\n",
       "      <td>3</td>\n",
       "      <td>Amapá</td>\n",
       "      <td>BR.AP</td>\n",
       "      <td>0</td>\n",
       "      <td>None</td>\n",
       "      <td>Estado</td>\n",
       "      <td>State</td>\n",
       "      <td>None</td>\n",
       "      <td>None</td>\n",
       "      <td>MULTIPOLYGON (((-50.02403 0.85986, -50.02403 0...</td>\n",
       "      <td>POINT (-51.96103 1.44004)</td>\n",
       "      <td>1465.000</td>\n",
       "    </tr>\n",
       "    <tr>\n",
       "      <th>3</th>\n",
       "      <td>33</td>\n",
       "      <td>BRA</td>\n",
       "      <td>Brazil</td>\n",
       "      <td>4</td>\n",
       "      <td>Amazonas</td>\n",
       "      <td>BR.AM</td>\n",
       "      <td>0</td>\n",
       "      <td>None</td>\n",
       "      <td>Estado</td>\n",
       "      <td>State</td>\n",
       "      <td>None</td>\n",
       "      <td>Amazone</td>\n",
       "      <td>POLYGON ((-67.32623 2.02968, -67.30118 1.92997...</td>\n",
       "      <td>POINT (-64.71488 -4.18678)</td>\n",
       "      <td>906.905</td>\n",
       "    </tr>\n",
       "    <tr>\n",
       "      <th>4</th>\n",
       "      <td>33</td>\n",
       "      <td>BRA</td>\n",
       "      <td>Brazil</td>\n",
       "      <td>5</td>\n",
       "      <td>Bahia</td>\n",
       "      <td>BR.BA</td>\n",
       "      <td>0</td>\n",
       "      <td>None</td>\n",
       "      <td>Estado</td>\n",
       "      <td>State</td>\n",
       "      <td>None</td>\n",
       "      <td>Ba¡a</td>\n",
       "      <td>MULTIPOLYGON (((-38.69708 -17.97903, -38.69708...</td>\n",
       "      <td>POINT (-41.73008 -12.47331)</td>\n",
       "      <td>1441.814</td>\n",
       "    </tr>\n",
       "  </tbody>\n",
       "</table>\n",
       "</div>"
      ],
      "text/plain": [
       "   ID_0  ISO  NAME_0  ID_1    NAME_1 HASC_1  CCN_1 CCA_1  TYPE_1 ENGTYPE_1  \\\n",
       "0    33  BRA  Brazil     1      Acre  BR.AC      0  None  Estado     State   \n",
       "1    33  BRA  Brazil     2   Alagoas  BR.AL      0  None  Estado     State   \n",
       "2    33  BRA  Brazil     3     Amapá  BR.AP      0  None  Estado     State   \n",
       "3    33  BRA  Brazil     4  Amazonas  BR.AM      0  None  Estado     State   \n",
       "4    33  BRA  Brazil     5     Bahia  BR.BA      0  None  Estado     State   \n",
       "\n",
       "  NL_NAME_1 VARNAME_1                                           geometry  \\\n",
       "0      None      None  POLYGON ((-73.33251 -7.32488, -73.27482 -7.350...   \n",
       "1      None      None  MULTIPOLYGON (((-35.90153 -9.86180, -35.90153 ...   \n",
       "2      None      None  MULTIPOLYGON (((-50.02403 0.85986, -50.02403 0...   \n",
       "3      None   Amazone  POLYGON ((-67.32623 2.02968, -67.30118 1.92997...   \n",
       "4      None      Ba¡a  MULTIPOLYGON (((-38.69708 -17.97903, -38.69708...   \n",
       "\n",
       "                        center  Number of Fires  \n",
       "0   POINT (-70.44667 -9.30992)          618.430  \n",
       "1   POINT (-36.62320 -9.51555)          121.000  \n",
       "2    POINT (-51.96103 1.44004)         1465.000  \n",
       "3   POINT (-64.71488 -4.18678)          906.905  \n",
       "4  POINT (-41.73008 -12.47331)         1441.814  "
      ]
     },
     "execution_count": 188,
     "metadata": {},
     "output_type": "execute_result"
    }
   ],
   "source": [
    "states_geo.head()"
   ]
  },
  {
   "cell_type": "code",
   "execution_count": 189,
   "id": "e06ddda2",
   "metadata": {},
   "outputs": [
    {
     "data": {
      "image/png": "[encoded data removed]",
      "text/plain": [
       "<Figure size 800x800 with 2 Axes>"
      ]
     },
     "metadata": {},
     "output_type": "display_data"
    }
   ],
   "source": [
    "#NOTE that the center points and every other thing remains thesame.\n",
    "#only that the 2017 total number of fires is now used\n",
    "\n",
    "plt.rcParams.update({\"font.size\": 5})\n",
    "\n",
    "fig, ax = plt.subplots(figsize=(4, 4), dpi=200)\n",
    "\n",
    "states_geo.plot(column=\"Number of Fires\", cmap=\"coolwarm\", legend=True,\n",
    "    legend_kwds={\"label\": \"Number of Fires\", \"orientation\": \"vertical\", \"shrink\": 0.6,},\n",
    "    ax=ax)\n",
    "\n",
    "ax.set_title(\"Total Number of Fires in Brazil states from 1998 to 2016\")\n",
    "ax.axis('off')\n",
    "\n",
    "#using the x, y cordinates of the center points we had calculated, we label the states\n",
    "for x, y, label in zip(states_geo_points.geometry.x, states_geo_points.geometry.y, states_geo_points[\"NAME_1\"]):\n",
    "    plt.text(x, y, label, fontsize = 4)"
   ]
  },
  {
   "cell_type": "code",
   "execution_count": null,
   "id": "f34e7432",
   "metadata": {},
   "outputs": [],
   "source": []
  },
  {
   "cell_type": "markdown",
   "id": "6859c84d",
   "metadata": {},
   "source": [
    "* The pattern on the map above is similar - with few differences - to that on the first choropleth map. It is just sublte and may be somewhat difficult to see. This is because we have the total number of fires in one year as compared to total number of fires from 19 years, and this affects the shades of the color on the map. \n",
    ">* For example, states in the mid region which had light shades of red now have light blue (Tocantins, Bahia, Minas Gerais etc), and correspondingly, other states that had light blue now have deep blue (Amazonas, Rondonia, Acre etc)\n",
    "* The few diferences observed include states like Santa Catarina and Rio Grande do Sul which were low in the number of fires in the the former map but high in the one above\n",
    "* Also note there is a wide margin between the number of fires in Mato Grosso and every other state, as seen in its deep red coloration. Though Mato Grosso experiences a lot of fires, as seen in the first choropleth map, its extremely high number of fires - compared with other states - in 2017 warrants further investigation "
   ]
  },
  {
   "cell_type": "code",
   "execution_count": 190,
   "id": "dcb50352",
   "metadata": {},
   "outputs": [
    {
     "data": {
      "text/html": [
       "<div>\n",
       "<style scoped>\n",
       "    .dataframe tbody tr th:only-of-type {\n",
       "        vertical-align: middle;\n",
       "    }\n",
       "\n",
       "    .dataframe tbody tr th {\n",
       "        vertical-align: top;\n",
       "    }\n",
       "\n",
       "    .dataframe thead th {\n",
       "        text-align: right;\n",
       "    }\n",
       "</style>\n",
       "<table border=\"1\" class=\"dataframe\">\n",
       "  <thead>\n",
       "    <tr style=\"text-align: right;\">\n",
       "      <th></th>\n",
       "      <th>State</th>\n",
       "      <th>Number of Fires</th>\n",
       "    </tr>\n",
       "  </thead>\n",
       "  <tbody>\n",
       "    <tr>\n",
       "      <th>0</th>\n",
       "      <td>Sergipe</td>\n",
       "      <td>75.000</td>\n",
       "    </tr>\n",
       "    <tr>\n",
       "      <th>1</th>\n",
       "      <td>Alagoas</td>\n",
       "      <td>121.000</td>\n",
       "    </tr>\n",
       "    <tr>\n",
       "      <th>2</th>\n",
       "      <td>Espírito Santo</td>\n",
       "      <td>234.000</td>\n",
       "    </tr>\n",
       "    <tr>\n",
       "      <th>3</th>\n",
       "      <td>Paraíba</td>\n",
       "      <td>294.000</td>\n",
       "    </tr>\n",
       "    <tr>\n",
       "      <th>4</th>\n",
       "      <td>Rio Grande do Norte</td>\n",
       "      <td>299.000</td>\n",
       "    </tr>\n",
       "    <tr>\n",
       "      <th>5</th>\n",
       "      <td>Distrito Federal</td>\n",
       "      <td>410.000</td>\n",
       "    </tr>\n",
       "    <tr>\n",
       "      <th>6</th>\n",
       "      <td>Pernambuco</td>\n",
       "      <td>522.000</td>\n",
       "    </tr>\n",
       "    <tr>\n",
       "      <th>7</th>\n",
       "      <td>Acre</td>\n",
       "      <td>618.430</td>\n",
       "    </tr>\n",
       "    <tr>\n",
       "      <th>8</th>\n",
       "      <td>Rondônia</td>\n",
       "      <td>702.395</td>\n",
       "    </tr>\n",
       "    <tr>\n",
       "      <th>9</th>\n",
       "      <td>Amazonas</td>\n",
       "      <td>906.905</td>\n",
       "    </tr>\n",
       "    <tr>\n",
       "      <th>10</th>\n",
       "      <td>Roraima</td>\n",
       "      <td>1101.000</td>\n",
       "    </tr>\n",
       "    <tr>\n",
       "      <th>11</th>\n",
       "      <td>Pará</td>\n",
       "      <td>1171.658</td>\n",
       "    </tr>\n",
       "    <tr>\n",
       "      <th>12</th>\n",
       "      <td>Tocantins</td>\n",
       "      <td>1378.959</td>\n",
       "    </tr>\n",
       "    <tr>\n",
       "      <th>13</th>\n",
       "      <td>Rio de Janeiro</td>\n",
       "      <td>1397.000</td>\n",
       "    </tr>\n",
       "    <tr>\n",
       "      <th>14</th>\n",
       "      <td>Maranhão</td>\n",
       "      <td>1413.532</td>\n",
       "    </tr>\n",
       "    <tr>\n",
       "      <th>15</th>\n",
       "      <td>Bahia</td>\n",
       "      <td>1441.814</td>\n",
       "    </tr>\n",
       "    <tr>\n",
       "      <th>16</th>\n",
       "      <td>Amapá</td>\n",
       "      <td>1465.000</td>\n",
       "    </tr>\n",
       "    <tr>\n",
       "      <th>17</th>\n",
       "      <td>Piauí</td>\n",
       "      <td>1487.998</td>\n",
       "    </tr>\n",
       "    <tr>\n",
       "      <th>18</th>\n",
       "      <td>Goiás</td>\n",
       "      <td>1581.131</td>\n",
       "    </tr>\n",
       "    <tr>\n",
       "      <th>19</th>\n",
       "      <td>Minas Gerais</td>\n",
       "      <td>1581.901</td>\n",
       "    </tr>\n",
       "    <tr>\n",
       "      <th>20</th>\n",
       "      <td>Mato Grosso do Sul</td>\n",
       "      <td>1819.522</td>\n",
       "    </tr>\n",
       "    <tr>\n",
       "      <th>21</th>\n",
       "      <td>Santa Catarina</td>\n",
       "      <td>2354.000</td>\n",
       "    </tr>\n",
       "    <tr>\n",
       "      <th>22</th>\n",
       "      <td>São Paulo</td>\n",
       "      <td>2540.868</td>\n",
       "    </tr>\n",
       "    <tr>\n",
       "      <th>23</th>\n",
       "      <td>Ceará</td>\n",
       "      <td>2555.000</td>\n",
       "    </tr>\n",
       "    <tr>\n",
       "      <th>24</th>\n",
       "      <td>Rio Grande do Sul</td>\n",
       "      <td>2575.000</td>\n",
       "    </tr>\n",
       "    <tr>\n",
       "      <th>25</th>\n",
       "      <td>Paraná</td>\n",
       "      <td>2758.706</td>\n",
       "    </tr>\n",
       "    <tr>\n",
       "      <th>26</th>\n",
       "      <td>Mato Grosso</td>\n",
       "      <td>3841.805</td>\n",
       "    </tr>\n",
       "  </tbody>\n",
       "</table>\n",
       "</div>"
      ],
      "text/plain": [
       "                  State  Number of Fires\n",
       "0               Sergipe           75.000\n",
       "1               Alagoas          121.000\n",
       "2        Espírito Santo          234.000\n",
       "3               Paraíba          294.000\n",
       "4   Rio Grande do Norte          299.000\n",
       "5      Distrito Federal          410.000\n",
       "6            Pernambuco          522.000\n",
       "7                  Acre          618.430\n",
       "8              Rondônia          702.395\n",
       "9              Amazonas          906.905\n",
       "10              Roraima         1101.000\n",
       "11                 Pará         1171.658\n",
       "12            Tocantins         1378.959\n",
       "13       Rio de Janeiro         1397.000\n",
       "14             Maranhão         1413.532\n",
       "15                Bahia         1441.814\n",
       "16                Amapá         1465.000\n",
       "17                Piauí         1487.998\n",
       "18                Goiás         1581.131\n",
       "19         Minas Gerais         1581.901\n",
       "20   Mato Grosso do Sul         1819.522\n",
       "21       Santa Catarina         2354.000\n",
       "22            São Paulo         2540.868\n",
       "23                Ceará         2555.000\n",
       "24    Rio Grande do Sul         2575.000\n",
       "25               Paraná         2758.706\n",
       "26          Mato Grosso         3841.805"
      ]
     },
     "execution_count": 190,
     "metadata": {},
     "output_type": "execute_result"
    }
   ],
   "source": [
    "#to buttress the last point, Mato Grosso had over 1000 fires more than the state that was second place to it.\n",
    "states_17"
   ]
  },
  {
   "cell_type": "code",
   "execution_count": null,
   "id": "d609cbc6",
   "metadata": {},
   "outputs": [],
   "source": []
  }
 ],
 "metadata": {
  "kernelspec": {
   "display_name": "Python 3",
   "language": "python",
   "name": "python3"
  },
  "language_info": {
   "codemirror_mode": {
    "name": "ipython",
    "version": 3
   },
   "file_extension": ".py",
   "mimetype": "text/x-python",
   "name": "python",
   "nbconvert_exporter": "python",
   "pygments_lexer": "ipython3",
   "version": "3.9.5"
  }
 },
 "nbformat": 4,
 "nbformat_minor": 5
}
